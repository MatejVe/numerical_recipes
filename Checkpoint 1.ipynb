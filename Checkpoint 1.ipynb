{
 "cells": [
  {
   "cell_type": "markdown",
   "metadata": {
    "nbgrader": {
     "grade": "false",
     "grade_id": "grade",
     "locked": "false",
     "schema_version": 1,
     "solution": "false"
    }
   },
   "source": [
    "# Mark: 86/100\n",
    "\n",
    "\n",
    "# Feedback\n",
    "\n",
    "\n",
    "## Task 1: 27/30\n",
    "Your solver appears to be working correctly and the animation looks right, although it doesn't run for the full 24 hours and needs a title / axes labels.\n",
    "\n",
    "## Task 2: 14/15\n",
    "Your result was accurate to within 1/10 second, which is good. Good use of the `events` parameter in `solve_ivp`.\n",
    "\n",
    "Your result depends on the trajectory starting from a y-position of 0. To get around this, you could have found two times when the trajectory crossed the y axis (upward) and taken the difference between them.\n",
    "\n",
    "## Task 3: 25/30\n",
    "Your code produced a result that was 3s away from the correct answer. However, I was able to get this down to under 1 second by simply increasing `rtol` by an order of magnitude.\n",
    "\n",
    "## Task 4: 10/10\n",
    "Although you didn't describe it in detail, I was able to clearly see your method from reading the code, and the final plot was excellent. To see that the $x$ derivative doesn't converge to zero you could have used a log plot (of its magnitude) or plotted on two separate axes.\n",
    "\n",
    "## Task 5: 9/10\n",
    "Your result was within 0.03% of the correct one - well done! Neat and compact code. My only real complaint is the total absence of comments for this task, although your functions are named in a useful manner so that helps.\n",
    "\n",
    "Also note that there is no point in including `r1` in your error since it is always fixed.\n",
    "\n",
    "## Task 6: 11/15\n",
    "Your code produced a result that was 1500m away from the correct one, whereas we were looking for an answer with 1000m. By playing with precision parameters I got this down to 1100m in a reasonable run-time. Still, a very good effort!\n",
    "\n",
    "Ideally you would take the plotting part out of your `task6` function - it performs a distinct task. You should also use this plot to justify the amount of time over which you search for an impact.\n",
    "\n",
    "## General feedback\n",
    "\n",
    "It's great that you found the `dense_output` parameter in `solve_ivp`, although the task does not require computing a continuous solution and the `OdeSolution` object returned by `solve_ivp` was never used. There is no problem (other than perhaps speed) with writing a function that does more than the minimum required to complete the task. However, it is very important that you document this sort of thing. You should let the user know that a continuous solution is computed by `solve_ivp` in the `task1` docstring, and better yet let the user decide how to set `dense_output`.\n",
    "\n",
    "Your commenting is mostly good. However, I'd stick to one style (preferably the one you used in `task1`, `solution_with_event`...) when it comes to docstrings."
   ]
  },
  {
   "cell_type": "markdown",
   "metadata": {
    "deletable": false,
    "editable": false,
    "nbgrader": {
     "cell_type": "markdown",
     "checksum": "ba4c70a873d1b4f36f5e3df0eddb4481",
     "grade": false,
     "grade_id": "header",
     "locked": true,
     "schema_version": 3,
     "solution": false,
     "task": false
    }
   },
   "source": [
    "# Checkpoint 1\n",
    "\n",
    "**Due: Friday, 16 October, 2020 at 5:00pm BST**\n",
    "\n",
    "### Read This First\n",
    "1. Use the constants provided in the cell below. Do not use your own constants.\n",
    "\n",
    "2. Put the code that produces the output for a given task in the cell indicated. You are welcome to add as many cells as you like for imports, function definitions, variables, etc. **Additional cells need to be in the proper order such that your code runs correctly the first time through.**\n",
    "\n",
    "3. **IMPORTANT!** Before submitting your notebook, clear the output by clicking *Restart & Clear Output* from the *Kernel* menu. If you do not do this, the file size of your notebook will be very large."
   ]
  },
  {
   "cell_type": "markdown",
   "metadata": {
    "deletable": false,
    "editable": false,
    "nbgrader": {
     "cell_type": "markdown",
     "checksum": "bab2972384c47a99dab98b836e1ba5f4",
     "grade": false,
     "grade_id": "section-libraries",
     "locked": true,
     "schema_version": 3,
     "solution": false,
     "task": false
    }
   },
   "source": [
    "## Libraries and Constants\n",
    "Custom imports and constants should be added to a new cell."
   ]
  },
  {
   "cell_type": "code",
   "execution_count": null,
   "metadata": {
    "deletable": false,
    "editable": false,
    "nbgrader": {
     "cell_type": "code",
     "checksum": "fe7ef72c7480150dac6e323751a47985",
     "grade": false,
     "grade_id": "imports",
     "locked": true,
     "schema_version": 3,
     "solution": false,
     "task": false
    }
   },
   "outputs": [],
   "source": [
    "from IPython.display import HTML\n",
    "import matplotlib.pyplot as plt\n",
    "from matplotlib import animation, rc\n",
    "%matplotlib inline\n",
    "import numpy as np\n",
    "from scipy import integrate, optimize\n",
    "import time\n",
    "\n",
    "plt.rcParams['figure.figsize'] = (10, 6)\n",
    "plt.rcParams['font.size'] = 16\n",
    "\n",
    "# Gravitational constant\n",
    "gg     = 6.67408e-11 # m^3 s^-1 kg^-2\n",
    "# Lunar mass\n",
    "mass   = 7.342e22 # kg\n",
    "# Lunar radius\n",
    "radius = 1738000 # m\n",
    "# 1 day in seconds\n",
    "day    = 3600*24 # seconds\n",
    "\n",
    "### Initial positions and velocities at t=0\n",
    "rs = [1842280, 0] # m\n",
    "vs = [0, 1634]    # m/s"
   ]
  },
  {
   "cell_type": "markdown",
   "metadata": {
    "deletable": false,
    "editable": false,
    "nbgrader": {
     "cell_type": "markdown",
     "checksum": "8ca4db9d303f8dce0560760871271ab5",
     "grade": false,
     "grade_id": "section-equations",
     "locked": true,
     "schema_version": 3,
     "solution": false,
     "task": false
    }
   },
   "source": [
    "## Equations of motion for the unperturbed case:\n",
    "\n",
    "$\n",
    "\\Large\n",
    "\\begin{align}\n",
    "\\frac{d^{2} x}{dt^2} = - \\frac{G M x}{(x^2 + y^2)^{3/2}}\n",
    "\\end{align}\n",
    "$\n",
    "\n",
    "$\n",
    "\\Large\n",
    "\\begin{align}\n",
    "\\frac{d^{2} y}{dt^2} = - \\frac{G M y}{(x^2 + y^2)^{3/2}}\n",
    "\\end{align}\n",
    "$"
   ]
  },
  {
   "cell_type": "markdown",
   "metadata": {
    "deletable": false,
    "editable": false,
    "nbgrader": {
     "cell_type": "markdown",
     "checksum": "7f2dabfa2df1d583ef0cf64f3c836f47",
     "grade": false,
     "grade_id": "section-task1",
     "locked": true,
     "schema_version": 3,
     "solution": false,
     "task": false
    }
   },
   "source": [
    "# Task 1 (30p)\n",
    "\n",
    "In the cell below, write a function that computes the trajectory from t = 0 to tmax, where tmax is given as an argument to the function. The function should return two arrays for the x and y positions of the trajectory. Each array should have N points (equally spaced in time), where N is given as an argument to the function. You may create additional cells for defining functions."
   ]
  },
  {
   "cell_type": "code",
   "execution_count": null,
   "metadata": {},
   "outputs": [],
   "source": [
    "# Differential equation function to solve\n",
    "# f is a list of 4 values that correspond to x, y, vx and vy\n",
    "def orbit_trajectory(t, f):\n",
    "    \"\"\"\n",
    "    f0 = x  => dx/dt  = vx\n",
    "    f1 = y  => dy/dt  = vy\n",
    "    f2 = vx => dvx/dt = -GM*x*(x^2 + y^2)^(-3/2)\n",
    "    f3 = vy => dvy/dt = -GM*x*(x^2 + y^2)^(-3/2)\n",
    "    \n",
    "    Returns an array of 4 values: [x, y, vx, vy]\n",
    "    \"\"\"\n",
    "    \n",
    "    vals = np.zeros_like(f)\n",
    "    vals[0] = f[2]\n",
    "    vals[1] = f[3]\n",
    "    vals[2] = -gg * mass * f[0] * (f[0]**2 + f[1]**2)**(-3/2)\n",
    "    vals[3] = -gg * mass * f[1] * (f[0]**2 + f[1]**2)**(-3/2)\n",
    "    \n",
    "    return vals"
   ]
  },
  {
   "cell_type": "code",
   "execution_count": null,
   "metadata": {},
   "outputs": [],
   "source": [
    "# Change initial conditions to a single array\n",
    "fi = np.array([rs[0], rs[1], vs[0], vs[1]])"
   ]
  },
  {
   "cell_type": "code",
   "execution_count": null,
   "metadata": {
    "deletable": false,
    "nbgrader": {
     "cell_type": "code",
     "checksum": "c495aa680522c01f11276e691de6b4cc",
     "grade": false,
     "grade_id": "function-task1",
     "locked": false,
     "schema_version": 3,
     "solution": true,
     "task": false
    }
   },
   "outputs": [],
   "source": [
    "def task1(N, tmax):\n",
    "    \"\"\"\n",
    "    Compute orbital trajectory.\n",
    "    \n",
    "    Parameters\n",
    "    ----------\n",
    "    N : int\n",
    "        Number of points in trajectory arrays\n",
    "    tmax : float\n",
    "        End time of integration in units of seconds.\n",
    "        \n",
    "    Returns\n",
    "    -------\n",
    "    x : array\n",
    "        x positions of the trajectory\n",
    "    y : array\n",
    "        y positions of the trajectory\n",
    "    \"\"\"\n",
    "    # Set t values\n",
    "    ts = np.linspace(0, tmax, N)\n",
    "    trange = (ts[0], ts[-1])\n",
    "    \n",
    "    sol = integrate.solve_ivp(orbit_trajectory, trange, fi, t_eval=ts, \n",
    "                              dense_output=True, rtol = 1e-5)\n",
    "    \n",
    "    return sol.y[0], sol.y[1]"
   ]
  },
  {
   "cell_type": "markdown",
   "metadata": {
    "deletable": false,
    "editable": false,
    "nbgrader": {
     "cell_type": "markdown",
     "checksum": "d90652557187df98ce1f79a8e0f6e7d7",
     "grade": false,
     "grade_id": "section-testing-task1",
     "locked": true,
     "schema_version": 3,
     "solution": false,
     "task": false
    }
   },
   "source": [
    "## Testing task 1\n",
    "\n",
    "The cell below will run your function with inputs of tmax = 1 day (in seconds) and some number of points. The assert statements below will test that the returned arrays are the correct size."
   ]
  },
  {
   "cell_type": "code",
   "execution_count": null,
   "metadata": {
    "deletable": false,
    "editable": false,
    "nbgrader": {
     "cell_type": "code",
     "checksum": "00e9fba3ad58031d7f0e2c256507de8a",
     "grade": true,
     "grade_id": "test-task1",
     "locked": true,
     "points": 1,
     "schema_version": 3,
     "solution": false,
     "task": false
    }
   },
   "outputs": [],
   "source": [
    "t_max = day\n",
    "n_points = int(t_max / 100)\n",
    "\n",
    "x_pos, y_pos = task1(n_points, t_max)\n",
    "\n",
    "assert x_pos.size == n_points\n",
    "assert y_pos.size == n_points"
   ]
  },
  {
   "cell_type": "markdown",
   "metadata": {
    "deletable": false,
    "editable": false,
    "nbgrader": {
     "cell_type": "markdown",
     "checksum": "d672c30fdc5edee7919a08e4cee83f47",
     "grade": false,
     "grade_id": "section-task1-cont",
     "locked": true,
     "schema_version": 3,
     "solution": false,
     "task": false
    }
   },
   "source": [
    "# Task 1 continued\n",
    "\n",
    "In the cell below, create an animation of the spacecraft's trajectory for t = 0 to 24 hours that includes a circle representing the Moon. Each frame of the animation should only show the last few points to avoid overlapping a previous orbit. A successful animation will be worth the full 30 points. Alternatively, create a static plot showing the Moon and the spacecraft's trajectory. This will be worth a maximum of 25 points."
   ]
  },
  {
   "cell_type": "code",
   "execution_count": null,
   "metadata": {
    "deletable": false,
    "nbgrader": {
     "cell_type": "code",
     "checksum": "10c4c4925ac544247a2bfd9d58ac8f93",
     "grade": false,
     "grade_id": "plot-task1",
     "locked": false,
     "schema_version": 3,
     "solution": true,
     "task": false
    }
   },
   "outputs": [],
   "source": [
    "# Setting up the figure, the axis, and the plot element\n",
    "fig, ax = plt.subplots(figsize=(8, 8))\n",
    "ax.set_xlim(-2.2e6, 2.2e6)\n",
    "ax.set_ylim(-2.2e6, 2.2e6)\n",
    "line, = ax.plot([], [], lw=2)"
   ]
  },
  {
   "cell_type": "code",
   "execution_count": null,
   "metadata": {},
   "outputs": [],
   "source": [
    "# Add the moon\n",
    "circle = plt.Circle((0, 0), radius, color='gray', alpha=0.8)\n",
    "ax.add_artist(circle)"
   ]
  },
  {
   "cell_type": "code",
   "execution_count": null,
   "metadata": {},
   "outputs": [],
   "source": [
    "# Data used to animate the plot is already calculated\n",
    "# Positions stored in x_pos and y_pos\n",
    "def init():\n",
    "    line.set_data(x_pos[0:5], y_pos[0:5])\n",
    "    return (line,)\n",
    "\n",
    "# Define an animation function\n",
    "def animate(i):\n",
    "    x = x_pos[i:i+3]\n",
    "    y = y_pos[i:i+3]\n",
    "    line.set_data(x, y)\n",
    "    return (line,)"
   ]
  },
  {
   "cell_type": "code",
   "execution_count": null,
   "metadata": {},
   "outputs": [],
   "source": [
    "anim = animation.FuncAnimation(fig, animate, frames=n_points//3, interval=20, blit=True)\n",
    "\n",
    "HTML(anim.to_jshtml())"
   ]
  },
  {
   "cell_type": "markdown",
   "metadata": {
    "deletable": false,
    "editable": false,
    "nbgrader": {
     "cell_type": "markdown",
     "checksum": "45bdfa44aa068fad332e8f0c52140742",
     "grade": false,
     "grade_id": "section-task2",
     "locked": true,
     "schema_version": 3,
     "solution": false,
     "task": false
    }
   },
   "source": [
    "# Task 2 (15p)\n",
    "\n",
    "Determine the orbital period T. Your solution must be calculated numerically, i.e., not simply using the analytical expression. The obtained value must be within +/-1 s of the correct value.\n",
    "\n",
    "In the cell below, write a function that returns the orbital period in units of seconds."
   ]
  },
  {
   "cell_type": "code",
   "execution_count": null,
   "metadata": {},
   "outputs": [],
   "source": [
    "def complete_orbit(t, f):\n",
    "    return f[1]\n",
    "complete_orbit.direction = 1"
   ]
  },
  {
   "cell_type": "code",
   "execution_count": null,
   "metadata": {},
   "outputs": [],
   "source": [
    "def solution_with_event(N, tmax):\n",
    "    \"\"\"\n",
    "    Compute orbital trajectory.\n",
    "    \n",
    "    Parameters\n",
    "    ----------\n",
    "    N : int\n",
    "        Number of points in trajectory arrays\n",
    "    tmax : float\n",
    "        End time of integration in units of seconds.\n",
    "        \n",
    "    Returns\n",
    "    -------\n",
    "    Solution object of the scipy.integrate.solve_ivp class\n",
    "    Defined atributes:\n",
    "        t - returns the time points\n",
    "        y - values of the solution at t\n",
    "        t_events - times at which the seeked event happens\n",
    "    \"\"\"\n",
    "    # Set t values\n",
    "    ts = np.linspace(0, tmax, N)\n",
    "    trange = (ts[0], ts[-1])\n",
    "    \n",
    "    sol = integrate.solve_ivp(orbit_trajectory, trange, fi, events=(complete_orbit),\n",
    "                              t_eval=ts, dense_output=True, rtol = 1e-6)\n",
    "    \n",
    "    \n",
    "    return sol"
   ]
  },
  {
   "cell_type": "code",
   "execution_count": null,
   "metadata": {},
   "outputs": [],
   "source": [
    "t_max = day\n",
    "n_points = int(t_max/100)"
   ]
  },
  {
   "cell_type": "code",
   "execution_count": null,
   "metadata": {
    "deletable": false,
    "nbgrader": {
     "cell_type": "code",
     "checksum": "564c94d57db0859bc5bc3dd8c130330d",
     "grade": false,
     "grade_id": "function-task2",
     "locked": false,
     "schema_version": 3,
     "solution": true,
     "task": false
    }
   },
   "outputs": [],
   "source": [
    "def task2():\n",
    "    sol = solution_with_event(n_points, t_max)\n",
    "    # Take the second event because the first one is the first iteration, where y = 0\n",
    "    return sol.t_events[0][1]\n",
    "\n",
    "print(task2())"
   ]
  },
  {
   "cell_type": "markdown",
   "metadata": {
    "deletable": false,
    "editable": false,
    "nbgrader": {
     "cell_type": "markdown",
     "checksum": "f156cc9610f8bbf00670a9702d6cf821",
     "grade": false,
     "grade_id": "section-testing-task2",
     "locked": true,
     "schema_version": 3,
     "solution": false,
     "task": false
    }
   },
   "source": [
    "## Testing task 2\n",
    "\n",
    "The cell below will run your function and compare with the analytic answer. They should agree to within 1 second."
   ]
  },
  {
   "cell_type": "code",
   "execution_count": null,
   "metadata": {
    "deletable": false,
    "editable": false,
    "nbgrader": {
     "cell_type": "code",
     "checksum": "af9a12dbe4b049928b286d824e0550ec",
     "grade": true,
     "grade_id": "test-task2",
     "locked": true,
     "points": 1,
     "schema_version": 3,
     "solution": false,
     "task": false
    }
   },
   "outputs": [],
   "source": [
    "T_calc = task2()\n",
    "t1 = time.time()\n",
    "print (f\"Calculated orbital period: {T_calc} seconds.\")\n",
    "t2 = time.time()\n",
    "\n",
    "mu = gg * mass\n",
    "T_analytic = 2 * np.pi * np.sqrt((rs[0]**3 * mu**2) / (2*mu - rs[0]*vs[1]**2)**3)\n",
    "\n",
    "print (f\"Difference with correct answer: {T_calc - T_analytic} seconds.\")\n",
    "print (f\"Solution calculated in {t2-t1} seconds.\")\n",
    "\n",
    "assert abs(T_calc - T_analytic) <= 1\n",
    "\n",
    "print (\"Hooray!\")"
   ]
  },
  {
   "cell_type": "markdown",
   "metadata": {
    "deletable": false,
    "editable": false,
    "nbgrader": {
     "cell_type": "markdown",
     "checksum": "3edcf8f65115c589c7e311a1f87932a8",
     "grade": false,
     "grade_id": "section-task3",
     "locked": true,
     "schema_version": 3,
     "solution": false,
     "task": false
    }
   },
   "source": [
    "# Task 3 (20p)\n",
    "\n",
    "Now add a correction that makes the gravitational field non-spherical. The correction rotates with the Moon (one full rotation every T$_{Moon}$ = 27.3 days). How long does it take until the spacecraft hits the Moon? The time must be accurate to +/-1 s. Assume the Moon’s surface is a sphere. The equations of motion now become:\n",
    "\n",
    "$\n",
    "\\Large\n",
    "\\begin{align}\n",
    "\\frac{d^{2} x}{dt^2} = - \\frac{G M x}{(x^2 + y^2)^{3/2}}\n",
    "- \\frac{q\\ G M x^\\prime}{(x^{^\\prime2} + y^{^\\prime2})^{3/2}}\n",
    "\\end{align}\n",
    "$\n",
    "\n",
    "$\n",
    "\\Large\n",
    "\\begin{align}\n",
    "\\frac{d^{2} y}{dt^2} = - \\frac{G M y}{(x^2 + y^2)^{3/2}}\n",
    "- \\frac{q\\ G M y^\\prime}{(x^{^\\prime2} + y^{^\\prime2})^{3/2}}\n",
    "\\end{align}\n",
    "$\n",
    "\n",
    "$\n",
    "\\Large\n",
    "\\begin{align}\n",
    "x^\\prime = x + 0.8\\ R \\cos \\left( \\frac{2 \\pi t}{T_{Moon}} \\right)\n",
    "\\end{align}\n",
    "$\n",
    "\n",
    "$\n",
    "\\Large\n",
    "\\begin{align}\n",
    "y^\\prime = y + 0.8\\ R \\sin \\left( \\frac{2 \\pi t}{T_{Moon}} \\right)\n",
    "\\end{align}\n",
    "$\n",
    "\n",
    "where q = 0.00025.\n",
    "\n",
    "## Task 3 objectives:\n",
    "1. Compute the time at which the spacecraft hits the Moon.\n",
    "2. Make a plot of the height of the spacecraft above the Moon's surface as a function of time. Don't forget to label axes and include units."
   ]
  },
  {
   "cell_type": "markdown",
   "metadata": {
    "deletable": false,
    "editable": false,
    "nbgrader": {
     "cell_type": "markdown",
     "checksum": "72c87d7fb2083b3eca3fa9986455fa68",
     "grade": false,
     "grade_id": "section-task3-part1",
     "locked": true,
     "schema_version": 3,
     "solution": false,
     "task": false
    }
   },
   "source": [
    "# Task 3 part 1\n",
    "\n",
    "In the cell below, create a function that returns the impact time accurate to within 1 second."
   ]
  },
  {
   "cell_type": "code",
   "execution_count": null,
   "metadata": {},
   "outputs": [],
   "source": [
    "q = 0.00025\n",
    "Tmoon = 27.3 * day"
   ]
  },
  {
   "cell_type": "code",
   "execution_count": null,
   "metadata": {},
   "outputs": [],
   "source": [
    "# Change initial conditions to a single array\n",
    "fi = np.array([rs[0], rs[1], vs[0], vs[1]])"
   ]
  },
  {
   "cell_type": "code",
   "execution_count": null,
   "metadata": {},
   "outputs": [],
   "source": [
    "def nonspherical_trajectory(t, f):\n",
    "    \"\"\"\n",
    "    x' = x + 0.8 * radius * cos(2*pi*t/Tmoon)\n",
    "    y' = y + 0.8 * radius * sin(2*pi*t/Tmoon)\n",
    "    \n",
    "    f0 = x  => dx/dt  = vx\n",
    "    f1 = y  => dy/dt  = vy\n",
    "    f2 = vx => dvx/dt = -GMx*(x^2+y^2)^(-3/2) - qGM*x'*(x'^2+y'^2)^(-3/2)\n",
    "    f3 = vy => dvy/dt = -GMy*(x^2+y^2)^(-3/2) - qGM*y'*(y'^2+y'^2)^(-3/2)\n",
    "    \n",
    "    Returns an array of 4 values: [x, y, vx, vy]\n",
    "    \"\"\"\n",
    "    \n",
    "    x1 = f[0] + 0.8 * radius * np.cos(2*np.pi*t/Tmoon)\n",
    "    y1 = f[1] + 0.8 * radius * np.sin(2*np.pi*t/Tmoon)\n",
    "    \n",
    "    vals = np.zeros_like(f)\n",
    "    vals[0] = f[2]\n",
    "    vals[1] = f[3]\n",
    "    vals[2] = -gg*mass*f[0]*(f[0]**2+f[1]**2)**(-3/2) - q*gg*mass*x1*(x1**2+y1**2)**(-3/2)\n",
    "    vals[3] = -gg*mass*f[1]*(f[0]**2+f[1]**2)**(-3/2) - q*gg*mass*y1*(x1**2+y1**2)**(-3/2)\n",
    "    \n",
    "    return vals"
   ]
  },
  {
   "cell_type": "code",
   "execution_count": null,
   "metadata": {},
   "outputs": [],
   "source": [
    "def satellite_crashes(t, f):\n",
    "    return np.sqrt(f[0]**2 + f[1]**2) - radius\n",
    "satellite_crashes.terminal = True"
   ]
  },
  {
   "cell_type": "code",
   "execution_count": null,
   "metadata": {},
   "outputs": [],
   "source": [
    "def solution_nonspherical(N, tmax):\n",
    "    \"\"\"\n",
    "    Compute orbital trajectory.\n",
    "    \n",
    "    Parameters\n",
    "    ----------\n",
    "    N : int\n",
    "        Number of points in trajectory arrays\n",
    "    tmax : float\n",
    "        End time of integration in units of seconds.\n",
    "        \n",
    "    Returns\n",
    "    -------\n",
    "    Solution object of the scipy.integrate.solve_ivp class\n",
    "    Defined atributes:\n",
    "        t - returns the time points\n",
    "        y - values of the solution at t\n",
    "        t_events - times at which the seeked event happens\n",
    "    \"\"\"\n",
    "    # Set t values\n",
    "    ts = np.linspace(0, tmax, N)\n",
    "    trange = (ts[0], ts[-1])\n",
    "    \n",
    "    sol = integrate.solve_ivp(nonspherical_trajectory, trange, fi, \n",
    "                              events=(satellite_crashes), t_eval=ts, \n",
    "                              dense_output=True, rtol = 1e-7)\n",
    "    \n",
    "    return sol"
   ]
  },
  {
   "cell_type": "code",
   "execution_count": null,
   "metadata": {},
   "outputs": [],
   "source": [
    "t_max = Tmoon\n",
    "n_points = int(t_max / 100)"
   ]
  },
  {
   "cell_type": "code",
   "execution_count": null,
   "metadata": {
    "deletable": false,
    "nbgrader": {
     "cell_type": "code",
     "checksum": "3c77cf0f75fc5abd8561b8c53042c936",
     "grade": false,
     "grade_id": "function-task3",
     "locked": false,
     "schema_version": 3,
     "solution": true,
     "task": false
    }
   },
   "outputs": [],
   "source": [
    "def task3():\n",
    "    sol = solution_nonspherical(n_points, t_max)\n",
    "    return sol.t_events[0][0]"
   ]
  },
  {
   "cell_type": "markdown",
   "metadata": {
    "deletable": false,
    "editable": false,
    "nbgrader": {
     "cell_type": "markdown",
     "checksum": "3998b1453205b2cde77cb733cef30c58",
     "grade": false,
     "grade_id": "section-testing-task3-part1",
     "locked": true,
     "schema_version": 3,
     "solution": false,
     "task": false
    }
   },
   "source": [
    "## Testing task 3 part 1\n",
    "\n",
    "The cell below will run your function and print your answer. This will be tested against the correct answer (not given)."
   ]
  },
  {
   "cell_type": "code",
   "execution_count": null,
   "metadata": {
    "nbgrader": {
     "grade": true,
     "grade_id": "test-task3-part1",
     "locked": true,
     "points": 1,
     "schema_version": 3,
     "solution": false,
     "task": false
    }
   },
   "outputs": [],
   "source": [
    "t1 = time.time()\n",
    "t_impact = task3()\n",
    "t2 = time.time()\n",
    "\n",
    "print (f\"Time to impact: {t_impact:.2f} seconds ({t_impact / day:.2f} days).\")\n",
    "print (f\"Solution calculated in {t2-t1} seconds.\")\n",
    "### BEGIN HIDDEN TESTS\n",
    "t_correct = 627064.2858659648\n",
    "\n",
    "print (f\"Difference with correct answer: {t_impact - t_correct} seconds.\")\n",
    "\n",
    "assert abs(t_impact - t_correct) <= 1\n",
    "### END HIDDEN TESTS"
   ]
  },
  {
   "cell_type": "markdown",
   "metadata": {
    "deletable": false,
    "editable": false,
    "nbgrader": {
     "cell_type": "markdown",
     "checksum": "2e8663ce61df1f7a9a1cc5772f0585ee",
     "grade": false,
     "grade_id": "section-task3-part2",
     "locked": true,
     "schema_version": 3,
     "solution": false,
     "task": false
    }
   },
   "source": [
    "## Task 3 part 2\n",
    "\n",
    "In the cell below, plot of the height of the spacecraft above the Moon's surface as a function of time. Don't forget to label axes and include units."
   ]
  },
  {
   "cell_type": "code",
   "execution_count": null,
   "metadata": {},
   "outputs": [],
   "source": [
    "sol = solution_nonspherical(n_points, t_max)\n",
    "heights = np.sqrt(sol.y[0]**2 + sol.y[1]**2) - np.ones_like(sol.y[0]) * radius"
   ]
  },
  {
   "cell_type": "code",
   "execution_count": null,
   "metadata": {
    "deletable": false,
    "nbgrader": {
     "cell_type": "code",
     "checksum": "5d7e29a04fefed1f3e73a33ca1ea1435",
     "grade": false,
     "grade_id": "plot-task3",
     "locked": false,
     "schema_version": 3,
     "solution": true,
     "task": false
    }
   },
   "outputs": [],
   "source": [
    "plt.plot(sol.t, heights)\n",
    "plt.title('Height of the spacecraft as a function of time')\n",
    "plt.xlabel('t [s]')\n",
    "plt.ylabel('Height above the surface [m]')"
   ]
  },
  {
   "cell_type": "markdown",
   "metadata": {
    "deletable": false,
    "editable": false,
    "nbgrader": {
     "cell_type": "markdown",
     "checksum": "8ede138300fda910e7031211ac7d175e",
     "grade": false,
     "grade_id": "section-task4",
     "locked": true,
     "points": 0,
     "schema_version": 3,
     "solution": false,
     "task": true
    }
   },
   "source": [
    "# Task 4 (10p)\n",
    "\n",
    "Which coordinate (x or y) of the position of the spacecraft after one revolution (orbital period T from task 2) is more sensitive to small changes in the amplitude of the correction? To answer this, calculate the derivatives of dx/dq and dy/dq at t = T, for q = 0. Write your answer in the cell below, describing how you arrived at it. Place any code that demonstrates your solution in the cell with the function called `task4`."
   ]
  },
  {
   "cell_type": "markdown",
   "metadata": {
    "deletable": false,
    "nbgrader": {
     "cell_type": "markdown",
     "checksum": "c0ffcdc91bc88a53adaed587c1fce5bd",
     "grade": true,
     "grade_id": "asnwer-task4",
     "locked": false,
     "points": 0,
     "schema_version": 3,
     "solution": true,
     "task": false
    }
   },
   "source": [
    "YOUR ANSWER HERE"
   ]
  },
  {
   "cell_type": "markdown",
   "metadata": {},
   "source": [
    "The derivative is defined as $\\lim_{h\\to 0} \\frac{f(x + h) - f(x)}{h}$. \\\n",
    "This can be approximated with a sufficiently small h as $\\frac{f(x + \\delta h) - f(x)}{\\delta h}$.\n",
    "\n",
    "$\\frac{dx}{dq}$ and $\\frac{dy}{dq}$ then becomes $\\frac{x(q + \\delta q) - x(q)}{\\delta q}$ and $\\frac{y(q + \\delta q) - y(q)}{\\delta q}$."
   ]
  },
  {
   "cell_type": "code",
   "execution_count": null,
   "metadata": {},
   "outputs": [],
   "source": [
    "delta_q = 1e-5\n",
    "q = 0\n",
    "mu = gg * mass\n",
    "T_analytic = 2 * np.pi * np.sqrt((rs[0]**3 * mu**2) / (2*mu - rs[0]*vs[1]**2)**3)"
   ]
  },
  {
   "cell_type": "code",
   "execution_count": null,
   "metadata": {},
   "outputs": [],
   "source": [
    "def nonspherical_trajectory_based_on_q(t, f, q):\n",
    "    x1 = f[0] + 0.8 * radius * np.cos(2*np.pi*t/Tmoon)\n",
    "    y1 = f[1] + 0.8 * radius * np.sin(2*np.pi*t/Tmoon)\n",
    "    \n",
    "    vals = np.zeros_like(f)\n",
    "    vals[0] = f[2]\n",
    "    vals[1] = f[3]\n",
    "    vals[2] = -gg*mass*f[0]*(f[0]**2+f[1]**2)**(-3/2) - q*gg*mass*x1*(x1**2+y1**2)**(-3/2)\n",
    "    vals[3] = -gg*mass*f[1]*(f[0]**2+f[1]**2)**(-3/2) - q*gg*mass*y1*(x1**2+y1**2)**(-3/2)\n",
    "    \n",
    "    return vals"
   ]
  },
  {
   "cell_type": "code",
   "execution_count": null,
   "metadata": {},
   "outputs": [],
   "source": [
    "def solution_nonspherical_based_on_q(n_points, t_max, q_var):\n",
    "    \n",
    "    def modified_func(t, f):\n",
    "        return nonspherical_trajectory_based_on_q(t, f, q_var)\n",
    "    \n",
    "    ts = np.linspace(0, t_max, n_points)\n",
    "    trange = (ts[0], ts[-1])\n",
    "    \n",
    "    sol = integrate.solve_ivp(modified_func, trange, fi, \n",
    "                              t_eval=ts, dense_output=True, rtol = 1e-7)\n",
    "        \n",
    "    return sol"
   ]
  },
  {
   "cell_type": "markdown",
   "metadata": {},
   "source": [
    "Calculate the solution for $q=0$ first."
   ]
  },
  {
   "cell_type": "code",
   "execution_count": null,
   "metadata": {},
   "outputs": [],
   "source": [
    "t_max = T_analytic\n",
    "n_points = int(t_max / 100)"
   ]
  },
  {
   "cell_type": "code",
   "execution_count": null,
   "metadata": {},
   "outputs": [],
   "source": [
    "sol1 = solution_nonspherical_based_on_q(n_points, t_max, q)"
   ]
  },
  {
   "cell_type": "markdown",
   "metadata": {},
   "source": [
    "Now calculate the solution for $q = 0 + \\delta q$."
   ]
  },
  {
   "cell_type": "code",
   "execution_count": null,
   "metadata": {},
   "outputs": [],
   "source": [
    "q = q + delta_q"
   ]
  },
  {
   "cell_type": "code",
   "execution_count": null,
   "metadata": {},
   "outputs": [],
   "source": [
    "sol2 = solution_nonspherical_based_on_q(n_points, t_max, q)"
   ]
  },
  {
   "cell_type": "markdown",
   "metadata": {},
   "source": [
    "Finally, find the approximated derivative at a time T."
   ]
  },
  {
   "cell_type": "code",
   "execution_count": null,
   "metadata": {
    "deletable": false,
    "nbgrader": {
     "cell_type": "code",
     "checksum": "19e4f318a975bcc9cfa96fdb8e3f2a13",
     "grade": false,
     "grade_id": "function-task4",
     "locked": false,
     "schema_version": 3,
     "solution": true,
     "task": false
    }
   },
   "outputs": [],
   "source": [
    "def task4():\n",
    "    delta_x = sol2.y[0][-1] - sol1.y[0][-1]\n",
    "    delta_y = sol2.y[1][-1] - sol1.y[1][-1]\n",
    "    \n",
    "    return delta_x / delta_q, delta_y / delta_q\n",
    "\n",
    "print(task4())"
   ]
  },
  {
   "cell_type": "markdown",
   "metadata": {},
   "source": [
    "Y coordinate seems to be much more sensitive to a small change in $q$."
   ]
  },
  {
   "cell_type": "code",
   "execution_count": null,
   "metadata": {},
   "outputs": [],
   "source": [
    "def get_derivatives(q0, delta_qs):\n",
    "    dx_dqs = np.zeros_like(delta_qs)\n",
    "    dy_dqs = np.zeros_like(delta_qs)\n",
    "    \n",
    "    for i in range(len(delta_qs)):\n",
    "        sol1 = solution_nonspherical_based_on_q(n_points, t_max, q0)\n",
    "        sol2 = solution_nonspherical_based_on_q(n_points, t_max, q0 + delta_qs[i])\n",
    "        \n",
    "        delta_x = sol2.y[0][-1] - sol1.y[0][-1]\n",
    "        delta_y = sol2.y[1][-1] - sol1.y[1][-1]\n",
    "        \n",
    "        dx_dqs[i] = delta_x / delta_qs[i]\n",
    "        dy_dqs[i] = delta_y / delta_qs[i]\n",
    "        \n",
    "    return dx_dqs, dy_dqs"
   ]
  },
  {
   "cell_type": "code",
   "execution_count": null,
   "metadata": {},
   "outputs": [],
   "source": [
    "q0 = 0\n",
    "delta_qs = np.logspace(-10, -1, 20)\n",
    "dx_dqs, dy_dqs = get_derivatives(q0, delta_qs)\n",
    "\n",
    "# Plot on a logarithmic axis\n",
    "plt.semilogx(delta_qs, dx_dqs, label='dx/dq')\n",
    "plt.semilogx(delta_qs, dy_dqs, label='dy/dq')\n",
    "plt.legend()\n",
    "plt.grid()\n",
    "plt.xlabel('$\\delta q$')\n",
    "plt.ylabel('Derivative at $t = T$')\n",
    "plt.show()\n"
   ]
  },
  {
   "cell_type": "markdown",
   "metadata": {},
   "source": [
    "$\\frac{dx}{dq}$ seems to converge to 0, this is not true. The value is just on the order of $10^5$ so it is not distinguishable at this plotting scale. Both values seem to converge, which means my calculations should be correct."
   ]
  },
  {
   "cell_type": "markdown",
   "metadata": {
    "deletable": false,
    "editable": false,
    "nbgrader": {
     "cell_type": "markdown",
     "checksum": "5a22d03d39395c6ef172740d35049afe",
     "grade": false,
     "grade_id": "section-task5",
     "locked": true,
     "schema_version": 3,
     "solution": false,
     "task": false
    }
   },
   "source": [
    "# Task 5 (10p)\n",
    "\n",
    "The positions of the spacecraft at t=0, t=T/2, and t=T are given in the cell below. Use them to determine the amplitude of the correction q. Note, this is a different value than for the previous tasks.\n",
    "\n",
    "A comment for those interested in space science: this is a highly simplified and unrealistic version of the task NASA scientists had to carry out to map out the gravity at the Moon's surface using \"telemetry\" data (positions and velocities) of various spacecrafts orbiting the Moon.\n",
    "\n",
    "Put your code in the cell that starts with `def task5():`.\n",
    "\n",
    "Your answer should be within 20% of the correct answer."
   ]
  },
  {
   "cell_type": "code",
   "execution_count": null,
   "metadata": {
    "deletable": false,
    "editable": false,
    "nbgrader": {
     "cell_type": "code",
     "checksum": "6595cdde4fb596b5606e01850c7f8685",
     "grade": true,
     "grade_id": "constants-task5",
     "locked": true,
     "points": 0,
     "schema_version": 3,
     "solution": false,
     "task": false
    }
   },
   "outputs": [],
   "source": [
    "r1 = [1842280.0, 0.0]\n",
    "r2 = [-1856332.7223839264, -717.5195460640389]\n",
    "r3 = [1842271.070055315, 3847.378923359429]"
   ]
  },
  {
   "cell_type": "code",
   "execution_count": null,
   "metadata": {},
   "outputs": [],
   "source": [
    "r1 = np.array(r1)\n",
    "r2 = np.array(r2)\n",
    "r3 = np.array(r3)"
   ]
  },
  {
   "cell_type": "code",
   "execution_count": null,
   "metadata": {},
   "outputs": [],
   "source": [
    "mu = gg * mass\n",
    "T_analytic = 2 * np.pi * np.sqrt((rs[0]**3 * mu**2) / (2*mu - rs[0]*vs[1]**2)**3)"
   ]
  },
  {
   "cell_type": "code",
   "execution_count": null,
   "metadata": {},
   "outputs": [],
   "source": [
    "t_max = T_analytic\n",
    "n_points = int(t_max / 100)"
   ]
  },
  {
   "cell_type": "code",
   "execution_count": null,
   "metadata": {},
   "outputs": [],
   "source": [
    "def function_to_optimize(q):\n",
    "    sol = solution_nonspherical_based_on_q(n_points, t_max, q)\n",
    "    \n",
    "    pos1 = np.array([sol.y[0][0], sol.y[1][0]])\n",
    "    pos2 = np.array([sol.y[0][n_points//2], sol.y[1][n_points//2]])\n",
    "    pos3 = np.array([sol.y[0][-1], sol.y[1][-1]])\n",
    "    \n",
    "    error1 = abs(np.linalg.norm(pos1 - r1)) / np.linalg.norm(r1)\n",
    "    error2 = abs(np.linalg.norm(pos2 - r2)) / np.linalg.norm(r2)\n",
    "    error3 = abs(np.linalg.norm(pos3 - r3)) / np.linalg.norm(r3)\n",
    "    \n",
    "    return error1 + error2 + error3"
   ]
  },
  {
   "cell_type": "code",
   "execution_count": null,
   "metadata": {
    "deletable": false,
    "nbgrader": {
     "cell_type": "code",
     "checksum": "69385242762db22937e67cdaba383174",
     "grade": false,
     "grade_id": "function-task5",
     "locked": false,
     "schema_version": 3,
     "solution": true,
     "task": false
    }
   },
   "outputs": [],
   "source": [
    "def task5():\n",
    "    return optimize.minimize_scalar(function_to_optimize).x"
   ]
  },
  {
   "cell_type": "markdown",
   "metadata": {},
   "source": [
    "Want to create a function that takes in a certain q and returns the total relative error."
   ]
  },
  {
   "cell_type": "markdown",
   "metadata": {
    "deletable": false,
    "editable": false,
    "nbgrader": {
     "cell_type": "markdown",
     "checksum": "c97e07bdcadf4dc597c25e3741513e21",
     "grade": false,
     "grade_id": "section-testing-task5",
     "locked": true,
     "schema_version": 3,
     "solution": false,
     "task": false
    }
   },
   "source": [
    "## Testing task 5\n",
    "\n",
    "The cell below will run your function and print your answer. This will be tested against the correct answer (not given). Your answer should be within 20% of the correct answer."
   ]
  },
  {
   "cell_type": "code",
   "execution_count": null,
   "metadata": {
    "nbgrader": {
     "grade": true,
     "grade_id": "test-task5",
     "locked": true,
     "points": 1,
     "schema_version": 3,
     "solution": false,
     "task": false
    }
   },
   "outputs": [],
   "source": [
    "t1 = time.time()\n",
    "mystery_q = task5()\n",
    "t2 = time.time()\n",
    "\n",
    "print (f\"q = {mystery_q}\")\n",
    "print (f\"Solution calculated in {t2-t1} seconds.\")\n",
    "\n",
    "### BEGIN HIDDEN TESTS\n",
    "q_correct = 0.00012\n",
    "\n",
    "print (f\"Difference with correct answer: {100*abs(mystery_q/q_correct-1)}%.\")\n",
    "\n",
    "assert abs(mystery_q/q_correct-1) <= 0.2\n",
    "### END HIDDEN TESTS"
   ]
  },
  {
   "cell_type": "markdown",
   "metadata": {},
   "source": [
    "I accidentally copied and pasted the cell above, and I can't delete it."
   ]
  },
  {
   "cell_type": "code",
   "execution_count": null,
   "metadata": {
    "nbgrader": {
     "grade": true,
     "grade_id": "test-task5",
     "locked": true,
     "points": 1,
     "schema_version": 3,
     "solution": false,
     "task": false
    }
   },
   "outputs": [],
   "source": [
    "t1 = time.time()\n",
    "mystery_q = task5()\n",
    "t2 = time.time()\n",
    "\n",
    "print (f\"q = {mystery_q}\")\n",
    "print (f\"Solution calculated in {t2-t1} seconds.\")\n",
    "\n",
    "### BEGIN HIDDEN TESTS\n",
    "q_correct = 0.00012\n",
    "\n",
    "print (f\"Difference with correct answer: {100*abs(mystery_q/q_correct-1)}%.\")\n",
    "\n",
    "assert abs(mystery_q/q_correct-1) <= 0.2\n",
    "### END HIDDEN TESTS"
   ]
  },
  {
   "cell_type": "markdown",
   "metadata": {
    "deletable": false,
    "editable": false,
    "nbgrader": {
     "cell_type": "markdown",
     "checksum": "a86fc46bd8085b4e983725b95abc9942",
     "grade": false,
     "grade_id": "section-task6",
     "locked": true,
     "schema_version": 3,
     "solution": false,
     "task": false
    }
   },
   "source": [
    "# Task 6 (15p)\n",
    "\n",
    "What is the minimum initial height of a circular orbit such that, for the perturbation from task 3 (q = 0.00025), the spacecraft does not collide with the Moon but remains gravitationally bound to it?\n",
    "\n",
    "The orbit may still show oscillations as in task 3, but the spacecraft cannot not hit the lunar surface.\n",
    "\n",
    "Create a function `task6` that returns the minimum height of the circular orbit in units of meters. Explain your approach. To obtain full marks, the answer must be correct to +/-1 km.\n",
    "\n",
    "The following formula for the velocity of a point mass in circular orbit of radius r, orbiting a spherically symmetric body of mass M, may be useful:\n",
    "\n",
    "$\n",
    "\\Large\n",
    "\\begin{align}\n",
    "v_{c} = \\sqrt{\\frac{G\\ M}{r}}.\n",
    "\\end{align}\n",
    "$\n",
    "\n",
    "In the cell below, create a function that calculates the minimum height of a stable orbit in units of meters. Your answer should be within 1000 meters of the correct answer."
   ]
  },
  {
   "cell_type": "markdown",
   "metadata": {},
   "source": [
    "My approach to this problem is calculating a bunch of orbits and using the optimize.optimize_scalar function to find the lowest orbit. My assumption is that if the satellite doesn't crash in month time (time the nonspherical gravity changes makes one circle) it wont crash at all."
   ]
  },
  {
   "cell_type": "code",
   "execution_count": null,
   "metadata": {},
   "outputs": [],
   "source": [
    "q = 0.00025\n",
    "# Change initial conditions to a single array\n",
    "fi = np.array([rs[0], rs[1], vs[0], vs[1]])"
   ]
  },
  {
   "cell_type": "code",
   "execution_count": null,
   "metadata": {},
   "outputs": [],
   "source": [
    "def current_EOM(t, f):\n",
    "    return nonspherical_trajectory_based_on_q(t, f, q)"
   ]
  },
  {
   "cell_type": "code",
   "execution_count": null,
   "metadata": {},
   "outputs": [],
   "source": [
    "t_max = 1.1 * Tmoon\n",
    "n_points = int(t_max / 100000)\n",
    "ts = np.linspace(0, t_max, n_points)\n",
    "trange = (ts[0], ts[-1])"
   ]
  },
  {
   "cell_type": "code",
   "execution_count": null,
   "metadata": {},
   "outputs": [],
   "source": [
    "def function_to_find0(initial_radius):\n",
    "    initial_velocity = np.sqrt(gg*mass / initial_radius)\n",
    "    f = np.array([initial_radius, 0, 0, initial_velocity])\n",
    "    \n",
    "    sol = integrate.solve_ivp(current_EOM, trange, f,\n",
    "                              events=(satellite_crashes), t_eval=ts,\n",
    "                                dense_output=True, rtol=1e-6)\n",
    "    \n",
    "    # Spacecraft that crash before Tmoon return a positive value, and those that do so after, or not at all return\n",
    "    # a negative value. Thats how the brentq method converges to a final value\n",
    "    return Tmoon - sol.t[-1]"
   ]
  },
  {
   "cell_type": "code",
   "execution_count": null,
   "metadata": {
    "deletable": false,
    "nbgrader": {
     "cell_type": "code",
     "checksum": "e9c8c07aeea5e9517c92e13b16009f56",
     "grade": false,
     "grade_id": "function-task6",
     "locked": false,
     "schema_version": 3,
     "solution": true,
     "task": false
    }
   },
   "outputs": [],
   "source": [
    "def task6():\n",
    "    r0 = optimize.brentq(function_to_find0, rs[0], 1.2 * rs[0], rtol=1e-3)\n",
    "    \n",
    "    # Make a plot of the spacecraft\n",
    "    \n",
    "    # Redefine time values so the plot looks nicer\n",
    "    n_points = int(t_max / 1000)\n",
    "    ts = np.linspace(0, t_max, n_points)\n",
    "    trange = (ts[0], ts[-1])\n",
    "    \n",
    "    initial_radius = r0\n",
    "    initial_velocity = np.sqrt(gg*mass / initial_radius)\n",
    "    f = np.array([initial_radius, 0, 0, initial_velocity])\n",
    "    \n",
    "    sol = integrate.solve_ivp(current_EOM, trange, f,\n",
    "                            events=(satellite_crashes), t_eval=ts,\n",
    "                            dense_output=True, rtol=1e-6)\n",
    "    heights = np.sqrt(sol.y[0]**2 + sol.y[1]**2) - np.ones_like(sol.y[0]) * radius\n",
    "    plt.plot(sol.t, heights)\n",
    "    plt.xlabel('Time [s]')\n",
    "    plt.ylabel('Height[m]')\n",
    "    plt.title('Height of the Spacecraft vs Time')\n",
    "    \n",
    "    return r0 - radius"
   ]
  },
  {
   "cell_type": "markdown",
   "metadata": {
    "deletable": false,
    "editable": false,
    "nbgrader": {
     "cell_type": "markdown",
     "checksum": "ac3e84b6dd5333dbe0a39a8e4c18c4d4",
     "grade": false,
     "grade_id": "section-testing-task6",
     "locked": true,
     "schema_version": 3,
     "solution": false,
     "task": false
    }
   },
   "source": [
    "## Testing task 6\n",
    "\n",
    "The cell below will run your function and print your answer. This will be tested against the correct answer (not given). Your answer should be within 1000 meters of the correct answer."
   ]
  },
  {
   "cell_type": "code",
   "execution_count": null,
   "metadata": {
    "nbgrader": {
     "grade": true,
     "grade_id": "test-task6",
     "locked": true,
     "points": 1,
     "schema_version": 3,
     "solution": false,
     "task": false
    }
   },
   "outputs": [],
   "source": [
    "t1 = time.time()\n",
    "min_height = task6()\n",
    "t2 = time.time()\n",
    "print (f\"Minimum height of stable orbit: {min_height} m.\")\n",
    "print (f\"Solution calculated in {t2-t1} seconds.\")\n",
    "\n",
    "### BEGIN HIDDEN TESTS\n",
    "min_height_correct = 154047.6006164552\n",
    "\n",
    "print (f\"Difference with correct answer: {min_height - min_height_correct} meters.\")\n",
    "\n",
    "assert abs(min_height - min_height_correct) <= 1000\n",
    "### END HIDDEN TESTS"
   ]
  },
  {
   "cell_type": "code",
   "execution_count": null,
   "metadata": {},
   "outputs": [],
   "source": []
  }
 ],
 "metadata": {
  "kernelspec": {
   "display_name": "Python 3.9.7 64-bit",
   "language": "python",
   "name": "python3"
  },
  "language_info": {
   "codemirror_mode": {
    "name": "ipython",
    "version": 3
   },
   "file_extension": ".py",
   "mimetype": "text/x-python",
   "name": "python",
   "nbconvert_exporter": "python",
   "pygments_lexer": "ipython3",
   "version": "3.9.7"
  },
  "vscode": {
   "interpreter": {
    "hash": "11938c6bc6919ae2720b4d5011047913343b08a43b18698fd82dedb0d4417594"
   }
  }
 },
 "nbformat": 4,
 "nbformat_minor": 2
}
