{
 "cells": [
  {
   "cell_type": "markdown",
   "metadata": {
    "deletable": false,
    "editable": false,
    "nbgrader": {
     "cell_type": "markdown",
     "checksum": "ef563c69f70e4508d5d2186248842296",
     "grade": false,
     "grade_id": "header",
     "locked": true,
     "schema_version": 3,
     "solution": false,
     "task": false
    }
   },
   "source": [
    "# Checkpoint 2\n",
    "\n",
    "**Due: Friday, 6 November, 2020 at 5:00pm GMT**\n",
    "\n",
    "### Read This First\n",
    "1. Use the constants provided in the cell below. Do not use your own constants.\n",
    "\n",
    "2. Put the code that produces the output for a given task in the cell indicated. You are welcome to add as many cells as you like for imports, function definitions, variables, etc. **Additional cells need to be in the proper order such that your code runs correctly the first time through.**\n",
    "\n",
    "3. **IMPORTANT!** Before submitting your notebook, clear the output by clicking *Restart & Clear Output* from the *Kernel* menu. If you do not do this, the file size of your notebook will be very large."
   ]
  },
  {
   "cell_type": "markdown",
   "metadata": {},
   "source": [
    "General comments on my code:\n",
    "\n",
    "I have learned my lesson from checkpoint 1 and I have decided that for each task reinitializing all the constants makes for much easier debugging and control of the code. This way I dont have search the whole notebook to see where is something defined and what is its value. This is also the reason why I decided not to make a lot of functions in my code, which would definitely make my code look nicer and neater, but would make debugging and controling my code harder. Thats why the same lines of code are seen in most tasks, but that made it easier for me to solve tasks, as I could easily see what exactly is going in my code.\n",
    "\n",
    "For most of the tasks I implemented both the spectral and the explicit euler method of solving differential equations. The spectral method outperforms the explicit euler one, and thats the one I didnt comment out so it still runs. I used the explicit euler method as a form of sanity check, my reasoning was if both methods agreed on a result, the result is good and both method are implemented correctly. I left the code for explicit euler because it does give incredibly precise results, and if I ever need it for future refrencing, I have it right here."
   ]
  },
  {
   "cell_type": "code",
   "execution_count": null,
   "metadata": {},
   "outputs": [],
   "source": [
    "import matplotlib.pyplot as plt\n",
    "%matplotlib inline\n",
    "import numpy as np\n",
    "import time\n",
    "\n",
    "from scipy.sparse.linalg import eigsh\n",
    "from scipy.sparse.linalg import spsolve\n",
    "from scipy.sparse import diags\n",
    "from scipy.sparse import identity\n",
    "\n",
    "plt.rcParams['figure.figsize'] = (10, 6)\n",
    "plt.rcParams['font.size'] = 16"
   ]
  },
  {
   "cell_type": "markdown",
   "metadata": {
    "deletable": false,
    "editable": false,
    "nbgrader": {
     "cell_type": "markdown",
     "checksum": "97fb576f81dbdf14d16161118c8478ee",
     "grade": false,
     "grade_id": "section-task1",
     "locked": true,
     "schema_version": 3,
     "solution": false,
     "task": false
    }
   },
   "source": [
    "# Task 1 (25p)\n",
    "\n",
    "Find numerically the first 101 lowest eigenvalues (“energies”) of the discrete Hamiltonian matrix, H, for V=0 and x=0,...,L, with L=100, dx=1/8 and with reflecting boundary conditions:\n",
    "\n",
    "$\n",
    "\\begin{align}\n",
    "\\psi_N \\equiv \\psi_{N-1},\n",
    "\\end{align}\n",
    "$\n",
    "\n",
    "$\n",
    "\\begin{align}\n",
    "\\psi_{-1} \\equiv \\psi_0,\n",
    "\\end{align}\n",
    "$\n",
    "\n",
    "Here the index -1 denotes the element to the left of the element zero, not the element N-1 as in Python. Note that indices $-1, N$ refer to elements of $\\psi$ that are outside the matrix H.\n",
    "\n",
    "Hint: The eigenvalues, $w_n$, should be\n",
    "\n",
    "$\n",
    "\\large\n",
    "\\begin{align}\n",
    "w_n = \\frac{2\\left(1 - \\cos (\\frac{n \\pi}{N}) \\right)}{dx^2}\n",
    "\\end{align}\n",
    "$\n",
    "\n",
    "for n=0, 1,..., 100. The corresponding (non-normalized) eigenvectors, $v_n$ are\n",
    "\n",
    "$\n",
    "\\large\n",
    "\\begin{align}\n",
    "v_n = \\cos \\left( \\frac{n \\pi x}{L} \\right)\n",
    "\\end{align}\n",
    "$\n",
    "\n",
    "for x=0, dx,..., (N-1)dx."
   ]
  },
  {
   "cell_type": "code",
   "execution_count": null,
   "metadata": {
    "deletable": false,
    "editable": false,
    "nbgrader": {
     "cell_type": "code",
     "checksum": "3b96418e8d805191fab5578bfe1d9c6c",
     "grade": false,
     "grade_id": "constants-task1",
     "locked": true,
     "schema_version": 3,
     "solution": false,
     "task": false
    }
   },
   "outputs": [],
   "source": [
    "### Values for task 1\n",
    "L  = 100\n",
    "dx = 1/8\n",
    "N  = int(L/dx)\n",
    "print(f\"Matrix size: {N}.\")"
   ]
  },
  {
   "cell_type": "markdown",
   "metadata": {
    "deletable": false,
    "editable": false,
    "nbgrader": {
     "cell_type": "markdown",
     "checksum": "f0ae58bad90ae10f41964fb2483fcd7a",
     "grade": false,
     "grade_id": "section-task1-cont",
     "locked": true,
     "schema_version": 3,
     "solution": false,
     "task": false
    }
   },
   "source": [
    "In the cell below, compute the 101 lowest eigenvalues given the values of V, L, and dx from above. The function, `task1` should return an array of the eigenvalues.\n",
    "\n",
    "It may be useful to write a generalized function for creating the Hamiltonian given values of N, dx, and V."
   ]
  },
  {
   "cell_type": "markdown",
   "metadata": {},
   "source": [
    "**Imposing boundary conditions**\n",
    "\n",
    "The laplace matrix is modified so the $\\psi_{-1} = \\psi_{0}$ and $\\psi_{N} = \\psi_{N-1}$ conditions are satisfied. It is modified in a way such that the weight of the first and last term is changed, as if it was accounted for the values outside our vector. The modified matrix looks like\n",
    "$\n",
    "\\begin{pmatrix}\n",
    "-1 &  1 &  0 &  0 &  0 \\\\\n",
    " 1 & -2 &  1 &  0 &  0 \\\\\n",
    " 0 &  1 & -2 &  1 &  0 \\\\\n",
    " 0 &  0 &  1 & -2 &  1 \\\\\n",
    " 0 &  0 &  0 &  1 & -1\n",
    " \\end{pmatrix}\n",
    " $\n",
    " \n",
    "This works because if we imagine a matrix being bigger than the actuall real space we are looking at we would get that the first entry would be $\\psi_{-1} -2\\psi_{0} + \\psi_{1}$. Sub in $\\psi_{-1} = \\psi_{0}$ and we get $-1\\psi_{0} + \\psi_{1}$ which is exactly what this matrix represents."
   ]
  },
  {
   "cell_type": "code",
   "execution_count": null,
   "metadata": {},
   "outputs": [],
   "source": [
    "def make_Laplacian(n, dr):\n",
    "    \"\"\"Creates a Laplacian with reflecting boundary conditions. \n",
    "    Parameters are: n - the size of the matrix and dr - the spacing between two sucessive discrete points on a real line\"\"\"\n",
    "    \n",
    "    # Create the Laplace operator\n",
    "    diagOne = np.ones(n-1)\n",
    "    diagZero = -2*np.ones(n)\n",
    "    # Manually change\n",
    "    diagZero[0] = -1\n",
    "    diagZero[-1] = -1\n",
    "    diagMinusOne = np.ones(n-1)\n",
    "    laplace = -1/(dr**2) * diags([diagMinusOne, diagZero, diagOne], [-1,0,1])\n",
    "    \n",
    "    return laplace"
   ]
  },
  {
   "cell_type": "code",
   "execution_count": null,
   "metadata": {
    "deletable": false,
    "nbgrader": {
     "cell_type": "code",
     "checksum": "2a540aba8afd7cc72f9f22b65262e589",
     "grade": false,
     "grade_id": "function-task1",
     "locked": false,
     "schema_version": 3,
     "solution": true,
     "task": false
    }
   },
   "outputs": [],
   "source": [
    "def task1():\n",
    "    hamiltonian = make_Laplacian(N, dx)\n",
    "    \n",
    "    eigenvalues = eigsh(hamiltonian, k=101, return_eigenvectors=False, which='SA') # SA stands for smallest algebraic\n",
    "    return eigenvalues[::-1] # Reverse the order of the eigenvalues because we want smallest ones to come first"
   ]
  },
  {
   "cell_type": "markdown",
   "metadata": {
    "deletable": false,
    "editable": false,
    "nbgrader": {
     "cell_type": "markdown",
     "checksum": "a305e20dabd91962b111fda679d05c27",
     "grade": false,
     "grade_id": "section-testing-task1",
     "locked": true,
     "schema_version": 3,
     "solution": false,
     "task": false
    }
   },
   "source": [
    "## Testing task 1\n",
    "\n",
    "The cell below will run your function and compare it with the expected values."
   ]
  },
  {
   "cell_type": "code",
   "execution_count": null,
   "metadata": {
    "deletable": false,
    "editable": false,
    "nbgrader": {
     "cell_type": "code",
     "checksum": "807d873c64673010810b7a92b3e122b0",
     "grade": true,
     "grade_id": "test-task1",
     "locked": true,
     "points": 0,
     "schema_version": 3,
     "solution": false,
     "task": false
    }
   },
   "outputs": [],
   "source": [
    "t1 = time.time()\n",
    "ww = task1()\n",
    "t2 = time.time()\n",
    "print (f\"Time to solution: {t2-t1} seconds.\")\n",
    "\n",
    "my_n = np.arange(101)\n",
    "ww_expected = 2 * (1 - np.cos(my_n*np.pi/N)) / dx**2\n",
    "\n",
    "plt.plot(my_n, ww, label='Computed', alpha=0.8)\n",
    "plt.plot(my_n, ww_expected, label='Expected', linewidth=2, linestyle='--', alpha=0.8)\n",
    "plt.xlabel(r'$n$')\n",
    "plt.ylabel(r'$w_{n}$')\n",
    "plt.legend()\n",
    "plt.show()\n",
    "\n",
    "diff = np.abs(ww - ww_expected) / np.max(np.abs([ww, ww_expected]), axis=0)\n",
    "print (f\"Max difference is {diff[1:].max()}.\")\n",
    "assert (diff[1:] < 1e-6).all()"
   ]
  },
  {
   "cell_type": "markdown",
   "metadata": {
    "deletable": false,
    "editable": false,
    "nbgrader": {
     "cell_type": "markdown",
     "checksum": "6b54b11725241c0fc135be932c0dc0bf",
     "grade": false,
     "grade_id": "section-task2",
     "locked": true,
     "schema_version": 3,
     "solution": false,
     "task": false
    }
   },
   "source": [
    "# Task 2 (5p)\n",
    "\n",
    "Select dx as a negative power of two ($dx=2^{-n}$ for n>0) such that the 101th eigenvalue differs from the dx$\\rightarrow$0 limiting value of\n",
    "\n",
    "$\n",
    "\\begin{align}\n",
    "w_{101,exact} = \\frac{(100\\pi/N)^{2}}{dx^2}\n",
    "\\end{align}\n",
    "$\n",
    "\n",
    "by less than 0.1%, i.e., $|w_{101}/w_{101,exact}-1|<0.001$.\n",
    "\n",
    "Motivation: selecting a sufficiently small dx is required to obtain a good approximation to the original (continuous) equation (1) for subsequent tasks.\n",
    "\n",
    "In the cell below, compute a value of dx that satisfies the above contraint. The function `task2` should return the value of dx that you have calculated."
   ]
  },
  {
   "cell_type": "code",
   "execution_count": null,
   "metadata": {},
   "outputs": [],
   "source": [
    "# This function is very efficient in calculating the eigenvalues of a specific form of matrices and is perfect for our needs\n",
    "# In this checkpoint\n",
    "from scipy.linalg import eigh_tridiagonal"
   ]
  },
  {
   "cell_type": "code",
   "execution_count": null,
   "metadata": {},
   "outputs": [],
   "source": [
    "def get_101st_eigenvalue(N, dx):\n",
    "    \"\"\"This function finds the 101st eigenvalue of a discrete Laplacian matrix\n",
    "    Parameters are: N - size of the matrix and dx - the spacing between two discrete points\"\"\"\n",
    "    \n",
    "    crtLaplacian = make_Laplacian(N, dx).toarray() # Has to be in full form for np.diagonal to work\n",
    "    # Find only the 101st eigenvector which is at index 100\n",
    "    lam, phi = eigh_tridiagonal(np.diagonal(crtLaplacian), np.diagonal(crtLaplacian, 1), select='i', select_range=(100, 100))\n",
    "    return lam[0]"
   ]
  },
  {
   "cell_type": "code",
   "execution_count": null,
   "metadata": {
    "deletable": false,
    "nbgrader": {
     "cell_type": "code",
     "checksum": "564c94d57db0859bc5bc3dd8c130330d",
     "grade": false,
     "grade_id": "function-task2",
     "locked": false,
     "schema_version": 3,
     "solution": true,
     "task": false
    }
   },
   "outputs": [],
   "source": [
    "def task2():\n",
    "    L = 100\n",
    "    # Starting numbers\n",
    "    dx = 1/2\n",
    "    N = int(L/dx)\n",
    "    \n",
    "    # Starting eigenvector values\n",
    "    w101ex = (100*np.pi/N)**2/dx**2\n",
    "    w101 = get_101st_eigenvalue(N, dx)\n",
    "    \n",
    "    # Iterate\n",
    "    while abs(w101/w101ex - 1) > 0.001:\n",
    "        # Update values\n",
    "        dx = dx/2\n",
    "        N = int(L/dx)\n",
    "        w101ex = (100*np.pi/N)**2/dx**2\n",
    "        w101 = get_101st_eigenvalue(N, dx)\n",
    "        \n",
    "    return dx"
   ]
  },
  {
   "cell_type": "markdown",
   "metadata": {
    "deletable": false,
    "editable": false,
    "nbgrader": {
     "cell_type": "markdown",
     "checksum": "39641e91784f331101fec867e65e432a",
     "grade": false,
     "grade_id": "section-testing-task2",
     "locked": true,
     "schema_version": 3,
     "solution": false,
     "task": false
    }
   },
   "source": [
    "## Testing task 2\n",
    "\n",
    "The cell below will run the `task2` function. We will verify that value of dx return satisfies the criterion outlined above."
   ]
  },
  {
   "cell_type": "code",
   "execution_count": null,
   "metadata": {
    "deletable": false,
    "editable": false,
    "nbgrader": {
     "cell_type": "code",
     "checksum": "c5bc499d8c9b1e1acf2400536aa6dd26",
     "grade": true,
     "grade_id": "test-task2",
     "locked": true,
     "points": 0,
     "schema_version": 3,
     "solution": false,
     "task": false
    }
   },
   "outputs": [],
   "source": [
    "t1 = time.time()\n",
    "my_dx = task2()\n",
    "t2 = time.time()\n",
    "print (f\"Time to solution: {t2-t1} seconds.\")\n"
   ]
  },
  {
   "cell_type": "code",
   "execution_count": null,
   "metadata": {},
   "outputs": [],
   "source": [
    "print(my_dx)"
   ]
  },
  {
   "cell_type": "markdown",
   "metadata": {
    "deletable": false,
    "editable": false,
    "nbgrader": {
     "cell_type": "markdown",
     "checksum": "f2e4dcb87cfbbe6722c352b2f9bc17a7",
     "grade": false,
     "grade_id": "section-task3",
     "locked": true,
     "schema_version": 3,
     "solution": false,
     "task": false
    }
   },
   "source": [
    "# Task 3 (20p)\n",
    "\n",
    "Solve equation (1) with the initial condition (2) (the Schroedinger equation and the Gaussian function from the checkpoint's description) for V(x)=0, on a domain x=0...100, for t=0...4 and dx from task 2. Plot $|\\psi(x,t)|^2$ and determine its mean given by\n",
    "\n",
    "$\n",
    "\\large\n",
    "\\begin{align}\n",
    "<x>\\ = \\int_{0}^{100} |ψ(x)|^2 x dx.\n",
    "\\end{align}\n",
    "$\n",
    "\n",
    "The mean should be equal to 79$\\pm$-1.\n",
    "\n",
    "Hint: use the procedure for creating the Hamiltonian matrix from tasks 1, 2. This will reduce the amount of coding required."
   ]
  },
  {
   "cell_type": "markdown",
   "metadata": {},
   "source": [
    "I have implemented both the explicit euler and the spectral method for most of the problems. I have decided to leave both in, for my future refrencing of the methods, if I will ever need them."
   ]
  },
  {
   "cell_type": "code",
   "execution_count": null,
   "metadata": {
    "deletable": false,
    "editable": false,
    "nbgrader": {
     "cell_type": "code",
     "checksum": "9a9e978c8645282513b821173f09c460",
     "grade": false,
     "grade_id": "constants-task3",
     "locked": true,
     "schema_version": 3,
     "solution": false,
     "task": false
    }
   },
   "outputs": [],
   "source": [
    "### Constants for task 3 and 4\n",
    "x0     = 15\n",
    "v      = 16\n",
    "sigma2 = 5\n",
    "tmax   = 4"
   ]
  },
  {
   "cell_type": "code",
   "execution_count": null,
   "metadata": {},
   "outputs": [],
   "source": [
    "from scipy.integrate import quad\n",
    "from scipy.integrate import simps"
   ]
  },
  {
   "cell_type": "code",
   "execution_count": null,
   "metadata": {},
   "outputs": [],
   "source": [
    "def task3_gaussian(x):\n",
    "    \"\"\"Schrodinger wavepacket, centered at x0=15, with standard deviation of sigma2=5 and velocity of v=16.\n",
    "    Takes in an array of x values and for each entry returns an array of complex numbers associated with those x values.\"\"\"\n",
    "    return np.exp(-(x-x0)**2/(2*sigma2) + 1j*v*x/2)\n",
    "\n",
    "def task3_probability_function(x):\n",
    "    \"\"\"Probability distribution function.\n",
    "    Takes an array of values, returns another array\"\"\"\n",
    "    return np.exp(-(x-x0)**2/sigma2)"
   ]
  },
  {
   "cell_type": "code",
   "execution_count": null,
   "metadata": {},
   "outputs": [],
   "source": [
    "# Normalize the gaussian:\n",
    "normConstSq = quad(task3_probability_function, 0, 100)[0]\n",
    "normConst = np.sqrt(normConstSq)\n",
    "print(1/normConst)"
   ]
  },
  {
   "cell_type": "code",
   "execution_count": null,
   "metadata": {},
   "outputs": [],
   "source": [
    "def task3_gaussian_norm(x):\n",
    "    \"\"\"Normalized form of the task3_gaussian function. \n",
    "    Takes in an array, returns the wavefunction numbers associated with every entry in the array. Returns an array\"\"\"\n",
    "    return 1/normConst * task3_gaussian(x)"
   ]
  },
  {
   "cell_type": "markdown",
   "metadata": {
    "deletable": false,
    "editable": false,
    "nbgrader": {
     "cell_type": "markdown",
     "checksum": "1e27c438de19cefd35bfacb16b3d74e8",
     "grade": false,
     "grade_id": "section-plot-task3",
     "locked": true,
     "schema_version": 3,
     "solution": false,
     "task": false
    }
   },
   "source": [
    "## Task 3 plot and result\n",
    "\n",
    "In the cell(s) below, do the following:\n",
    "1. Solve equation (1) for t=0...4 and plot $|\\psi(x,t=0)|^2$ and $|\\psi(x,t=tmax)|^2$ as a function of x.\n",
    "2. Compute the mean of the final position and print the value. The correct result should be between 78 and 80.\n",
    "\n",
    "Don't forget to nomalize your Gaussian initial condition so that the total probability $\\int_0^L |\\psi(x,t=0)|^2 dx=1$. \n",
    "\n",
    "You do not have to wrap up the calculation in a function \"task3()\", but doing so may help to reduce the amount of coding for tasks 4-6."
   ]
  },
  {
   "cell_type": "code",
   "execution_count": null,
   "metadata": {},
   "outputs": [],
   "source": [
    "# dx is stored as my_dx\n",
    "\n",
    "# Choose small enough dt\n",
    "dt = my_dx**2/2\n",
    "x00 = 0\n",
    "x0N = 100\n",
    "N = int((x0N - x00) / my_dx)\n",
    "x = np.linspace(x00, x0N, N)\n",
    "tmax = 4\n",
    "nmax = int(tmax/dt)"
   ]
  },
  {
   "cell_type": "code",
   "execution_count": null,
   "metadata": {
    "deletable": false,
    "nbgrader": {
     "cell_type": "code",
     "checksum": "46aef034c85233969d2a90e3f1e102b1",
     "grade": true,
     "grade_id": "function-task3",
     "locked": false,
     "points": 0,
     "schema_version": 3,
     "solution": true,
     "task": false
    }
   },
   "outputs": [],
   "source": [
    "def task3_explicitE():\n",
    "    # Initial position\n",
    "    psi0 = task3_gaussian_norm(x)\n",
    "    \n",
    "    hamiltonian = make_Laplacian(N, my_dx)\n",
    "    \n",
    "    psin = psi0.copy()\n",
    "    \n",
    "    A = identity(N) + 1/2 * 1j * hamiltonian * dt\n",
    "    b = identity(N) - 1/2 * 1j * hamiltonian * dt\n",
    "    \n",
    "    # Iterate\n",
    "    for n in range(nmax):\n",
    "        RHS = b.dot(psin)\n",
    "        psin = spsolve(A, RHS)\n",
    "        \n",
    "    # Calculate the position probabilites\n",
    "    p0 = psi0 * psi0.conjugate()\n",
    "    pn = psin * psin.conjugate()\n",
    "    \n",
    "    mean = simps(x * pn, x)\n",
    "    print(f'Mean of the final position is {mean.real}') # Imaginary part is 0 but it still stored as 0, doing mean.real displays nicer\n",
    "    \n",
    "    plt.plot(x, p0.real, label='t=0') # .real to get rid of the annoying error message\n",
    "    plt.plot(x, pn.real, label=f't={tmax}')\n",
    "    plt.title('Probability of a particle being at a specific position for $t=0$ and for $t=4$')\n",
    "    plt.legend()\n",
    "    plt.xlabel('x')\n",
    "    plt.ylabel('Probability distribution')\n",
    "    plt.show()"
   ]
  },
  {
   "cell_type": "markdown",
   "metadata": {},
   "source": [
    "Uncomment the line task3_explicitE() to see the explicit euler method. The spectral method is faster and that is why I decided to use that one."
   ]
  },
  {
   "cell_type": "code",
   "execution_count": null,
   "metadata": {
    "scrolled": true
   },
   "outputs": [],
   "source": [
    "t1 = time.time()\n",
    "#task3_explicitE()\n",
    "t2 = time.time()\n",
    "print(f'Time to solution is {t2 - t1} seconds')"
   ]
  },
  {
   "cell_type": "code",
   "execution_count": null,
   "metadata": {},
   "outputs": [],
   "source": [
    "from matplotlib import animation\n",
    "from IPython.display import HTML"
   ]
  },
  {
   "cell_type": "code",
   "execution_count": null,
   "metadata": {},
   "outputs": [],
   "source": [
    "def make_animation_task3():\n",
    "    fig, ax = plt.subplots()\n",
    "    ax.set_xlim(0, 100)\n",
    "    ax.set_ylim(0, 0.25)\n",
    "    line, = ax.plot([], [], lw=2)\n",
    "    \n",
    "    hamiltonian = make_Laplacian(N, my_dx)\n",
    "    psi0 = task3_gaussian_norm(x)\n",
    "    psin = psi0.copy()\n",
    "    \n",
    "    A = identity(N) + 1/2 * 1j * hamiltonian * dt\n",
    "    b = identity(N) - 1/2 * 1j * hamiltonian * dt\n",
    "    \n",
    "    ps = []\n",
    "    \n",
    "    for n in range(nmax):\n",
    "        RHS = b.dot(psin)\n",
    "        psin = spsolve(A, RHS)\n",
    "        ps.append(np.abs(psin)**2)\n",
    "    \n",
    "    def init():\n",
    "        line.set_data(x, psi0)\n",
    "        return (line,)\n",
    "    \n",
    "    def animate(i):\n",
    "        line.set_data(x, ps[10*i])\n",
    "        return (line,)\n",
    "    \n",
    "    anim = animation.FuncAnimation(fig, animate, init_func=init,\n",
    "                                   frames=int(nmax/10), interval=20, blit=True)\n",
    "\n",
    "    return anim\n",
    "    \n",
    "# Uncomment the next line of code to produce an animation\n",
    "HTML(make_animation_task3().to_jshtml())"
   ]
  },
  {
   "cell_type": "code",
   "execution_count": null,
   "metadata": {},
   "outputs": [],
   "source": [
    "def task3_spectral():\n",
    "    # Spectral method\n",
    "    \n",
    "    # Create the hamiltonian\n",
    "    hamiltonian = make_Laplacian(N, my_dx)\n",
    "    hamiltonian = hamiltonian.toarray()\n",
    "    \n",
    "    u0 = task3_gaussian_norm(x)\n",
    "    \n",
    "    # Get eigenvalues\n",
    "    lam, phi = eigh_tridiagonal(np.diagonal(hamiltonian), np.diagonal(hamiltonian, 1))\n",
    "    a = phi.T.dot(u0)\n",
    "    \n",
    "    u = np.zeros(N, dtype=np.complex128)\n",
    "    for i in range(lam.size):\n",
    "        u += a[i] * np.exp(-1j * lam[i] * tmax) * phi[:, i]\n",
    "    \n",
    "    p0 = u0 * np.conjugate(u0)\n",
    "    pn = u * np.conjugate(u)\n",
    "    \n",
    "    mean = simps(x * pn, x)\n",
    "    print(f'Mean of the final position is {mean.real}')\n",
    "    \n",
    "    plt.plot(x, p0.real, label='t=0') # p0.real to get rid of the annoying error message for casting complex values\n",
    "    plt.plot(x, pn.real, label=f't={tmax}')\n",
    "    plt.title('Probability of a particle being at a specific position for $t=0$ and for $t=4$')\n",
    "    plt.legend()\n",
    "    plt.xlabel('x')\n",
    "    plt.ylabel('Probability')\n",
    "    plt.show()\n",
    "\n",
    "t1 = time.time()\n",
    "task3_spectral()\n",
    "t2 = time.time()\n",
    "print(f'Time to solution is {t2 - t1} seconds')"
   ]
  },
  {
   "cell_type": "markdown",
   "metadata": {
    "deletable": false,
    "editable": false,
    "nbgrader": {
     "cell_type": "markdown",
     "checksum": "78f9c05ab558663eee6abd74c130f534",
     "grade": false,
     "grade_id": "section-task4",
     "locked": true,
     "schema_version": 3,
     "solution": false,
     "task": false
    }
   },
   "source": [
    "# Task 4 (10p)\n",
    "\n",
    "Now repeat task 3 for a potential made up of regularly spaced wells such that\n",
    "\n",
    "V=70 for |x-i| < 0.25 where i=0,1,...,100,\n",
    "\n",
    "and V=0 elsewhere.\n",
    "\n",
    "Plot the potential. It should be $V=70$ for $x=0...0.25$, $V=0$ for $x=0.25...0.75$, $V=70$ for $x=0.75...1.25$, and so on.\n",
    "\n",
    "Determine the mean of $|\\psi(x,t)|^2$ as before, with accuracy $\\pm$1.\n",
    "\n",
    "Make sure that dx and dt are sufficiently small to achieve this accuracy!\n",
    "\n",
    "In the cell below, create the potential and plot it over the range [0, 3]."
   ]
  },
  {
   "cell_type": "code",
   "execution_count": null,
   "metadata": {
    "deletable": false,
    "nbgrader": {
     "cell_type": "code",
     "checksum": "a2c019e4771e7c2e39134e8f9f73c1fb",
     "grade": false,
     "grade_id": "function-task4",
     "locked": false,
     "schema_version": 3,
     "solution": true,
     "task": false
    }
   },
   "outputs": [],
   "source": [
    "# Create the potential\n",
    "V = []\n",
    "for oneX in x:\n",
    "    count = 0\n",
    "    for i in range(100):\n",
    "        if np.abs(oneX-i) < 0.25:\n",
    "            count += 1\n",
    "            break\n",
    "    if count == 1:\n",
    "        V.append(70)\n",
    "    else:\n",
    "        V.append(0)\n",
    "        \n",
    "fig, ax = plt.subplots()\n",
    "ax.set_xlim(0, 3)\n",
    "ax.plot(x, V)\n",
    "plt.xlabel('Position')\n",
    "plt.ylabel('Potential')\n",
    "plt.show()"
   ]
  },
  {
   "cell_type": "markdown",
   "metadata": {
    "deletable": false,
    "editable": false,
    "nbgrader": {
     "cell_type": "markdown",
     "checksum": "a677f62e1ff93e1705edb79f9ffda1c5",
     "grade": false,
     "grade_id": "section-task4-cont",
     "locked": true,
     "schema_version": 3,
     "solution": false,
     "task": false
    }
   },
   "source": [
    "# Task 4 continued\n",
    "\n",
    "In the cell below, repeat task 3 with the new potential."
   ]
  },
  {
   "cell_type": "markdown",
   "metadata": {},
   "source": [
    "Again, I have implement both the explicit euler and the spectral method, but have decided to only let the spectral one run because it is faster."
   ]
  },
  {
   "cell_type": "code",
   "execution_count": null,
   "metadata": {},
   "outputs": [],
   "source": [
    "### Constants for task 3 and 4\n",
    "x0     = 15\n",
    "v      = 16\n",
    "sigma2 = 5\n",
    "tmax   = 4\n",
    "\n",
    "# Choose small enough dt\n",
    "dt = my_dx**2/2\n",
    "x00 = 0\n",
    "x0N = 100\n",
    "N = int((x0N - x00) / my_dx)\n",
    "x = np.linspace(x00, x0N, N)\n",
    "tmax = 4\n",
    "nmax = int(tmax/dt)"
   ]
  },
  {
   "cell_type": "code",
   "execution_count": null,
   "metadata": {},
   "outputs": [],
   "source": [
    "def create_Hamiltonian(n, dx, potential):\n",
    "    \"\"\"Creates a laplacian plus the potential operator.\n",
    "    Parameters are: \n",
    "    n - size of the matrix\n",
    "    dx - spacing between consecutive points\n",
    "    potential - array of values of the potential at the points we create the laplacian, has to be of length n\n",
    "    \n",
    "    Function returns a hamiltonian matrix of size n times n\"\"\"\n",
    "    \n",
    "    # Create the Laplace operator\n",
    "    diagOne = np.ones(n-1)\n",
    "    diagZero = -2*np.ones(n)\n",
    "    # Manually change\n",
    "    diagZero[0] = -1\n",
    "    diagZero[-1] = -1\n",
    "    # Add the potential values\n",
    "    for i in range(n):\n",
    "        diagZero[i] -= potential[i] * dx**2 # Changed to potential - used to be V[i]\n",
    "    \n",
    "    diagMinusOne = np.ones(n-1)\n",
    "    hamilton = -1/(dx**2) * diags([diagMinusOne, diagZero, diagOne], [-1,0,1])\n",
    "    \n",
    "    return hamilton"
   ]
  },
  {
   "cell_type": "code",
   "execution_count": null,
   "metadata": {},
   "outputs": [],
   "source": [
    "print(create_Hamiltonian(5, 1, [0, 0, 0, 0, 0]).toarray())"
   ]
  },
  {
   "cell_type": "code",
   "execution_count": null,
   "metadata": {},
   "outputs": [],
   "source": [
    "def task4_explicitE():\n",
    "    # Initial position\n",
    "    psi0 = task3_gaussian_norm(x)\n",
    "    \n",
    "    hamiltonian = create_Hamiltonian(N, my_dx, V)\n",
    "    \n",
    "    psin = psi0.copy()\n",
    "    \n",
    "    A = identity(N) + 1/2 * 1j * hamiltonian * dt\n",
    "    b = identity(N) - 1/2 * 1j * hamiltonian * dt\n",
    "    \n",
    "    # Iterate\n",
    "    for n in range(nmax):\n",
    "        RHS = b.dot(psin)\n",
    "        psin = spsolve(A, RHS)\n",
    "        \n",
    "    # Calculate the position probabilites\n",
    "    p0 = psi0 * psi0.conjugate()\n",
    "    pn = psin * psin.conjugate()\n",
    "    \n",
    "    mean = simps(x * pn, x)\n",
    "    print(f'Mean of the final position is {mean.real}')\n",
    "    \n",
    "    plt.plot(x, p0.real, label='t=0')\n",
    "    plt.plot(x, pn.real, label=f't={tmax}')\n",
    "    plt.title('Probability of a particle being at a specific position for $t=0$ and for $t=4$')\n",
    "    plt.legend()\n",
    "    plt.xlabel('x')\n",
    "    plt.ylabel('Probability distribution')\n",
    "    plt.show()\n",
    "\n",
    "    \n",
    "# Uncomment the line task4_explicitE() to see the result of the explicit euler method\n",
    "t1 = time.time()\n",
    "#task4_explicitE()\n",
    "t2 = time.time()\n",
    "print(f'Time to solution is {t2 - t1} seconds')"
   ]
  },
  {
   "cell_type": "code",
   "execution_count": null,
   "metadata": {},
   "outputs": [],
   "source": [
    "def make_animation_task4():\n",
    "    fig, ax = plt.subplots()\n",
    "    ax.set_xlim(0, 100)\n",
    "    ax.set_ylim(0, 0.25)\n",
    "    line, = ax.plot([], [], lw=2)\n",
    "    \n",
    "    hamiltonian = create_Hamiltonian(N, my_dx, V)\n",
    "    psi0 = task3_gaussian_norm(x)\n",
    "    psin = psi0.copy()\n",
    "    \n",
    "    A = identity(N) + 1/2 * 1j * hamiltonian * dt\n",
    "    b = identity(N) - 1/2 * 1j * hamiltonian * dt\n",
    "    \n",
    "    ps = []\n",
    "    \n",
    "    for n in range(nmax):\n",
    "        RHS = b.dot(psin)\n",
    "        psin = spsolve(A, RHS)\n",
    "        ps.append(np.abs(psin)**2)\n",
    "    \n",
    "    def init():\n",
    "        line.set_data(x, psi0)\n",
    "        return (line,)\n",
    "    \n",
    "    def animate(i):\n",
    "        line.set_data(x, ps[15*i])\n",
    "        return (line,)\n",
    "    \n",
    "    anim = animation.FuncAnimation(fig, animate, init_func=init,\n",
    "                                   frames=int(nmax/15), interval=20, blit=True)\n",
    "\n",
    "    return anim\n",
    "    \n",
    "# Uncomment the next line to make an animation\n",
    "HTML(make_animation_task4().to_jshtml())"
   ]
  },
  {
   "cell_type": "code",
   "execution_count": null,
   "metadata": {
    "deletable": false,
    "nbgrader": {
     "cell_type": "code",
     "checksum": "2d5de27a32e1e00fc6b5b0ac93f2fc64",
     "grade": false,
     "grade_id": "answer-task4",
     "locked": false,
     "schema_version": 3,
     "solution": true,
     "task": false
    }
   },
   "outputs": [],
   "source": [
    "def task4_spectral():\n",
    "    # Spectral method\n",
    "    \n",
    "    # Create the hamiltonian\n",
    "    hamiltonian = create_Hamiltonian(N, my_dx, V)\n",
    "    hamiltonian = hamiltonian.toarray()\n",
    "    \n",
    "    u0 = task3_gaussian_norm(x)\n",
    "    \n",
    "    # Get eigenvalues\n",
    "    lam, phi = eigh_tridiagonal(np.diagonal(hamiltonian), np.diagonal(hamiltonian, 1))\n",
    "    a = phi.T.dot(u0)\n",
    "    \n",
    "    u = np.zeros(N, dtype=np.complex128)\n",
    "    for i in range(lam.size):\n",
    "        u += a[i] * np.exp(-1j * lam[i] * tmax) * phi[:, i]\n",
    "    \n",
    "    p0 = u0 * np.conjugate(u0)\n",
    "    pn = u * np.conjugate(u)\n",
    "    \n",
    "    mean = simps(x * pn, x)\n",
    "    print(f'Mean of the final position is {mean.real}')\n",
    "    \n",
    "    plt.plot(x, p0.real, label='t=0')\n",
    "    plt.plot(x, pn.real, label=f't={tmax}')\n",
    "    plt.title('Probability of a particle being at a specific position for $t=0$ and for $t=4$')\n",
    "    plt.legend()\n",
    "    plt.xlabel('x')\n",
    "    plt.ylabel('Probability')\n",
    "    plt.show()\n",
    "    \n",
    "t1 = time.time()\n",
    "task4_spectral()\n",
    "t2 = time.time()\n",
    "print(f'Time to solution is {t2 - t1} seconds')"
   ]
  },
  {
   "cell_type": "markdown",
   "metadata": {
    "deletable": false,
    "editable": false,
    "nbgrader": {
     "cell_type": "markdown",
     "checksum": "6132662c54c849e9968cb221ea16659f",
     "grade": false,
     "grade_id": "section-task5",
     "locked": true,
     "schema_version": 3,
     "solution": false,
     "task": false
    }
   },
   "source": [
    "# Task 5 (15p)\n",
    "\n",
    "Calculate the probability $P_{1/2}$ of the particle moving through the point x=L/2 by integrating the probability current \n",
    "\n",
    "$\n",
    "\\large\n",
    "\\begin{align}\n",
    "j = (\\psi^*  \\frac{\\partial \\psi}{\\partial x} -\n",
    "\\psi \\frac{\\partial \\psi^*}{\\partial x})(x=L/2)\n",
    "\\end{align}\n",
    "$\n",
    "\n",
    "over time, for t=0...4. The probability can deviate from the true value by no more than $\\pm$0.01 (hint: the correct value is between 0.5 and 1).\n",
    "\n",
    "In the cell below, calculate the probability and print your answer."
   ]
  },
  {
   "cell_type": "markdown",
   "metadata": {},
   "source": [
    "As usual, the derivative is approximated by a finite difference. The derivative at $x = L/2$ looks like this: \n",
    "$\\begin{align}\n",
    "\\frac{\\partial \\psi} {\\partial x} = \\frac{\\psi (L/2 + dx) - \\psi(L/2)}{dx}\n",
    "\\end{align}$. \n",
    "Approximate both the derivative and the conjugate derivative, store the values for each t and calculate the integral.\n",
    "\n",
    "For this task the spectral method again outperforms the explicit euler one."
   ]
  },
  {
   "cell_type": "code",
   "execution_count": null,
   "metadata": {},
   "outputs": [],
   "source": [
    "x0     = 15\n",
    "v      = 16\n",
    "sigma2 = 5\n",
    "tmax   = 4\n",
    "\n",
    "# Choose small enough dt\n",
    "dt = my_dx**2/2\n",
    "x00 = 0\n",
    "x0N = 100\n",
    "N = int((x0N - x00) / my_dx)\n",
    "x = np.linspace(x00, x0N, N)\n",
    "tmax = 4\n",
    "nmax = int(tmax/dt)"
   ]
  },
  {
   "cell_type": "code",
   "execution_count": null,
   "metadata": {},
   "outputs": [],
   "source": [
    "def get_current_prob_density_at_halfL(psi_halfL, psi_halfL_dx):\n",
    "    \"\"\"This function takes in the values of psi at L/2 and L/2+dx and returns the approximated probability current.\"\"\"\n",
    "    \n",
    "    currentj = np.conjugate(psi_halfL) * (psi_halfL_dx - psi_halfL)/my_dx - psi_halfL * np.conjugate((psi_halfL_dx - psi_halfL) / my_dx)\n",
    "    currentj = -1j * currentj\n",
    "    return currentj"
   ]
  },
  {
   "cell_type": "code",
   "execution_count": null,
   "metadata": {
    "deletable": false,
    "nbgrader": {
     "cell_type": "code",
     "checksum": "69036dbb6598c88ed2c686173d93177a",
     "grade": false,
     "grade_id": "function-task5",
     "locked": false,
     "schema_version": 3,
     "solution": true,
     "task": false
    }
   },
   "outputs": [],
   "source": [
    "def task5_spectral():\n",
    "    times = np.linspace(0, tmax, int(nmax/10))\n",
    "    # Use the same potential as for the previous task\n",
    "    # It is stored as V\n",
    "    \n",
    "    # Create the hamiltonian\n",
    "    hamiltonian = create_Hamiltonian(N, my_dx, V)\n",
    "    hamiltonian = hamiltonian.toarray()\n",
    "    \n",
    "    u0 = task3_gaussian_norm(x)\n",
    "    \n",
    "    # Get eigenvalues\n",
    "    lam, phi = eigh_tridiagonal(np.diagonal(hamiltonian), np.diagonal(hamiltonian, 1), select='i', select_range=(0, 600))\n",
    "    a = phi.T.dot(u0)\n",
    "    \n",
    "    js = []\n",
    "    index = int(N/2)\n",
    "    \n",
    "    for time in times:\n",
    "        psi_halfL = sum(a[i] * np.exp(-1j * lam[i] * time) * phi[index, i] for i in range(lam.size))\n",
    "        psi_halfL_dx = sum(a[i] * np.exp(-1j * lam[i] * time) * phi[index + 1, i] for i in range(lam.size))\n",
    "            \n",
    "        js.append(get_current_prob_density_at_halfL(psi_halfL, psi_halfL_dx))\n",
    "        \n",
    "    probability = simps(js, times)\n",
    "    print(f'Probability of the partice moving through the point x = L/2 is {probability.real}')\n",
    "\n",
    "t1 = time.time()\n",
    "task5_spectral()\n",
    "t2 = time.time()\n",
    "\n",
    "print(f'Time take to complete the calculations is {t2 - t1} seconds')"
   ]
  },
  {
   "cell_type": "code",
   "execution_count": null,
   "metadata": {},
   "outputs": [],
   "source": [
    "def task5_explicitE():\n",
    "    times = np.linspace(0, tmax, nmax)\n",
    "    # Initial position\n",
    "    psi0 = task3_gaussian_norm(x)\n",
    "    \n",
    "    hamiltonian = create_Hamiltonian(N, my_dx, V)\n",
    "    \n",
    "    psin = psi0.copy()\n",
    "    \n",
    "    A = identity(N) + 1/2 * 1j * hamiltonian * dt\n",
    "    b = identity(N) - 1/2 * 1j * hamiltonian * dt\n",
    "    \n",
    "    js = []\n",
    "    index = int(N/2)\n",
    "    \n",
    "    # Iterate\n",
    "    for n in range(nmax):\n",
    "        RHS = b.dot(psin)\n",
    "        psin = spsolve(A, RHS)\n",
    "        \n",
    "        js.append(get_current_prob_density_at_halfL(psin[index], psin[index + 1]))\n",
    "        \n",
    "    probability = simps(js, times)\n",
    "    print(f'Probability of the partice moving through the point x = L/2 is {probability.real}')\n",
    "    \n",
    "# Uncomment the line bellow to see the explicit euler method result\n",
    "t1 = time.time()\n",
    "#task5_explicitE()\n",
    "t2 = time.time()\n",
    "\n",
    "print(f'Time take to complete the calculations is {t2 - t1} seconds')"
   ]
  },
  {
   "cell_type": "markdown",
   "metadata": {
    "deletable": false,
    "editable": false,
    "nbgrader": {
     "cell_type": "markdown",
     "checksum": "a5704cc71928fbf5402f80cfa8e06bb6",
     "grade": false,
     "grade_id": "section-task6",
     "locked": true,
     "schema_version": 3,
     "solution": false,
     "task": false
    }
   },
   "source": [
    "# Task 6 (15p)\n",
    "\n",
    "Plot the probability $P_{1/2}$ as a function of particle energy E=0...100, for at least 100 equally-spaced values from this range. All $P_{1/2}$ values should be within $\\pm$0.01 of the true values. Use the formula \n",
    "\n",
    "$\n",
    "\\large\n",
    "\\begin{align}\n",
    "E = \\frac{1}{4} v^2\n",
    "\\end{align}\n",
    "$\n",
    "\n",
    "to convert between energy and velocity (valid for Eqs. (1,2)).\n",
    "\n",
    "Bonus question: can you explain why the plot looks like this?\n",
    "\n",
    "Plot the probability in the cell below."
   ]
  },
  {
   "cell_type": "code",
   "execution_count": null,
   "metadata": {},
   "outputs": [],
   "source": [
    "x0     = 15\n",
    "sigma2 = 5\n",
    "tmax   = 4\n",
    "\n",
    "# Choose small enough dt\n",
    "dt = my_dx**2\n",
    "x00 = 0\n",
    "x0N = 100\n",
    "N = int((x0N - x00) / my_dx)\n",
    "x = np.linspace(x00, x0N, N)\n",
    "tmax = 4\n",
    "nmax = int(tmax/dt)"
   ]
  },
  {
   "cell_type": "code",
   "execution_count": null,
   "metadata": {},
   "outputs": [],
   "source": [
    "def energy_gaussian_task6(x, E):\n",
    "    \"\"\"Function of the same form as the usuall gaussian, the energy is a parameter in this case and it determines the velocity\"\"\"\n",
    "    v = np.sqrt(4 * E)\n",
    "    return 1/normConst * np.exp(-(x-x0)**2/(2*sigma2) + 1j*v*x/2)"
   ]
  },
  {
   "cell_type": "code",
   "execution_count": null,
   "metadata": {
    "scrolled": true
   },
   "outputs": [],
   "source": [
    "def task6_explicitE():\n",
    "    energies = np.linspace(0, 100, 100)\n",
    "    times = np.linspace(0, tmax, nmax)\n",
    "    probabilities = []\n",
    "    \n",
    "    for energy in energies:\n",
    "        print(energy)\n",
    "        # Initial position\n",
    "        psi0 = energy_gaussian_task6(x, energy)\n",
    "    \n",
    "        hamiltonian = create_Hamiltonian(N, my_dx, V)\n",
    "        \n",
    "        psin = psi0.copy()\n",
    "        \n",
    "        A = identity(N) + 1/2 * 1j * hamiltonian * dt\n",
    "        b = identity(N) - 1/2 * 1j * hamiltonian * dt\n",
    "        \n",
    "        js = []\n",
    "        index = int(N/2)\n",
    "        \n",
    "        # Iterate\n",
    "        for n in range(nmax):\n",
    "            RHS = b.dot(psin)\n",
    "            psin = spsolve(A, RHS)\n",
    "            \n",
    "            js.append(get_current_prob_density_at_halfL(psin[index], psin[index + 1]))\n",
    "        \n",
    "        probability = simps(js, times)\n",
    "        probabilities.append(probability.real) # complex part is 0 anyways, and .real gets rid of the error message\n",
    "        \n",
    "    plt.plot(energies, probabilities)\n",
    "    plt.title('Probability of a particle passing through the point $x=L/2$ vs the starting energy of the particle')\n",
    "    plt.xlabel('Energy')\n",
    "    plt.ylabel('Probability of passing through x = L/2')\n",
    "    plt.show()\n",
    "\n",
    "# This method takes way too long to run, and I have implemented the same problem using the spectral method below.\n",
    "# I left this in because it does return very accurate results, even though takes a very long time to run.\n",
    "# I used it to compare the results of the spectral method to see if the accuracy is good enough\n",
    "t1 = time.time()\n",
    "#task6_explicitE()\n",
    "t2 = time.time()\n",
    "\n",
    "print(f'Time take to complete the calculations is {t2 - t1}')"
   ]
  },
  {
   "cell_type": "code",
   "execution_count": null,
   "metadata": {
    "deletable": false,
    "nbgrader": {
     "cell_type": "code",
     "checksum": "34248862ebaaf5a028b3f562b2fe6efc",
     "grade": false,
     "grade_id": "function-task6",
     "locked": false,
     "schema_version": 3,
     "solution": true,
     "task": false
    }
   },
   "outputs": [],
   "source": [
    "def task6_spectral():\n",
    "    energies = np.linspace(0, 100, 100)\n",
    "    times = np.linspace(0, tmax, int(nmax/100))\n",
    "    \n",
    "    probabilities = []\n",
    "    \n",
    "    # Use the same potential as for the previous task\n",
    "    # It is stored as V\n",
    "        \n",
    "    # Create the hamiltonian\n",
    "    hamiltonian = create_Hamiltonian(N, my_dx, V)\n",
    "    hamiltonian = hamiltonian.toarray()\n",
    "    # Get eigenvalues\n",
    "    lam, phi = eigh_tridiagonal(np.diagonal(hamiltonian), np.diagonal(hamiltonian, 1), select='i', select_range=(0, 600))\n",
    "\n",
    "    for energy in energies:\n",
    "        \n",
    "        # Get the specific starting gaussian distribution\n",
    "        u0 = energy_gaussian_task6(x, energy)\n",
    "        \n",
    "        a = phi.T.dot(u0)\n",
    "        \n",
    "        js = []\n",
    "        index = int(N/2)\n",
    "        \n",
    "        for time in times:\n",
    "            psi_halfL = sum(a[i] * np.exp(-1j * lam[i] * time) * phi[index, i] for i in range(lam.size))\n",
    "            psi_halfL_dx = sum(a[i] * np.exp(-1j * lam[i] * time) * phi[index + 1, i] for i in range(lam.size))\n",
    "            \n",
    "            js.append(get_current_prob_density_at_halfL(psi_halfL, psi_halfL_dx))\n",
    "        \n",
    "        probability = simps(js, times)\n",
    "        probabilities.append(probability.real) # complex part is 0 anyway, and .real gets rid of the error message\n",
    "        \n",
    "    plt.plot(energies, probabilities)\n",
    "    plt.title('Probability of a particle passing through the point $x=L/2$ vs the starting energy of the particle')\n",
    "    plt.xlabel('Energy')\n",
    "    plt.ylabel('Probability of passing through x = L/2')\n",
    "    plt.show()\n",
    "    \n",
    "time1 = time.time()\n",
    "task6_spectral()\n",
    "time2 = time.time()\n",
    "print(f'Time taken for this task to complete is {time2 - time1} seconds')"
   ]
  },
  {
   "cell_type": "markdown",
   "metadata": {},
   "source": [
    "My best guess is that the reason the graph looks this way is:\n",
    "- The initial low probability of passing through the midpoint is because the initial energy and therefore velocity are both too low for the particle to pass the barriers and have enough time to reach the midpoint\n",
    "- The energy increases enough for the particle to effectively pass the bariers and pass through the midpoint - thats where the probability increases\n",
    "- The probability then falls off because the particle is fast enough to reach the midpoint on its way back, after it had reflected of the right boundary. Because we are only calculating the probability of passing through the midpoint from left to right, this decreases the probability because it is counted as negative current\n",
    "- The probability then again starts increasing, my bet is that the particle gets reflected 2 times and starts reaching the midpoint for the third time, this time from the left so the current is counted as positive\n"
   ]
  },
  {
   "cell_type": "markdown",
   "metadata": {
    "deletable": false,
    "editable": false,
    "nbgrader": {
     "cell_type": "markdown",
     "checksum": "395d9446d8ecec601bd2616f5aa01114",
     "grade": false,
     "grade_id": "section-task7",
     "locked": true,
     "schema_version": 3,
     "solution": false,
     "task": false
    }
   },
   "source": [
    "# Task 7 (10p)\n",
    "\n",
    "Assume again the initial condition of equation (2) with v=16, and consider a disordered potential in which\n",
    "\n",
    "V=70 for |x-i| < b$_i$ where i=0,1,...,100,\n",
    "\n",
    "and b$_i$ is a random variable uniformly distributed on [0.125, 0.375].\n",
    "\n",
    "Find the probability $P_{1/2}$ by averaging over 100 realizations of the random potential (must be accurate to $\\pm$0.02). Plot the histogram of $P_{1/2}$. Comment on the value of $P_{1/2}$ compared with task 5."
   ]
  },
  {
   "cell_type": "code",
   "execution_count": null,
   "metadata": {},
   "outputs": [],
   "source": [
    "x0     = 15\n",
    "v      = 16\n",
    "sigma2 = 5\n",
    "tmax   = 4\n",
    "\n",
    "# Choose small enough dt\n",
    "dt = my_dx**2/2\n",
    "x00 = 0\n",
    "x0N = 100\n",
    "N = int((x0N - x00) / my_dx)\n",
    "x = np.linspace(x00, x0N, N)\n",
    "tmax = 4\n",
    "nmax = int(tmax/dt)"
   ]
  },
  {
   "cell_type": "code",
   "execution_count": null,
   "metadata": {
    "deletable": false,
    "nbgrader": {
     "cell_type": "code",
     "checksum": "546417409ea0cf71ede0771b17aec4ca",
     "grade": false,
     "grade_id": "function-task7",
     "locked": false,
     "schema_version": 3,
     "solution": true,
     "task": false
    }
   },
   "outputs": [],
   "source": [
    "def disordered_potential():\n",
    "    \"\"\"This function creates and returns a disordered potential in a list. V[i] corresponds to the position x[i]\"\"\"\n",
    "    bi = (0.375 - 0.125) * np.random.random_sample(100) + 0.125\n",
    "    V = []\n",
    "    for oneX in x:\n",
    "        count = 0\n",
    "        for i in range(100):\n",
    "            if np.abs(oneX-i) < bi[i]:\n",
    "                count += 1\n",
    "                break\n",
    "        if count == 1:\n",
    "            V.append(70)\n",
    "        else:\n",
    "            V.append(0)\n",
    "    return V\n",
    "\n",
    "V = disordered_potential()\n",
    "\n",
    "fig, ax = plt.subplots()\n",
    "ax.set_xlim(0, 3)\n",
    "ax.plot(x, V)\n",
    "plt.xlabel('Position')\n",
    "plt.ylabel('Potential')\n",
    "plt.show()"
   ]
  },
  {
   "cell_type": "code",
   "execution_count": null,
   "metadata": {
    "deletable": false,
    "nbgrader": {
     "cell_type": "code",
     "checksum": "6bd69d5861aa9544b04e3873d9ae0379",
     "grade": false,
     "grade_id": "answer-task7",
     "locked": false,
     "schema_version": 3,
     "solution": true,
     "task": false
    },
    "scrolled": false
   },
   "outputs": [],
   "source": [
    "def task7():\n",
    "    probabilities = []\n",
    "    \n",
    "    for i in range(100):\n",
    "        V = disordered_potential()\n",
    "        \n",
    "        times = np.linspace(0, tmax, int(nmax/100))\n",
    "        \n",
    "        # Create the hamiltonian\n",
    "        hamiltonian = create_Hamiltonian(N, my_dx, V).toarray()\n",
    "        \n",
    "        u0 = task3_gaussian_norm(x)\n",
    "        \n",
    "        # Get eigenvalues\n",
    "        lam, phi = eigh_tridiagonal(np.diagonal(hamiltonian), np.diagonal(hamiltonian, 1), select='i', select_range=(200, 600))\n",
    "        a = phi.T.dot(u0)\n",
    "        \n",
    "        js = []\n",
    "        index = int(N/2)\n",
    "        \n",
    "        for time in times:\n",
    "            psi_halfL = sum(a[i] * np.exp(-1j * lam[i] * time) * phi[index, i] for i in range(lam.size))\n",
    "            psi_halfL_dx = sum(a[i] * np.exp(-1j * lam[i] * time) * phi[index + 1, i] for i in range(lam.size))\n",
    "            \n",
    "            js.append(get_current_prob_density_at_halfL(psi_halfL, psi_halfL_dx))\n",
    "        \n",
    "        probability = simps(js, times)\n",
    "        probabilities.append(probability.real)\n",
    "    \n",
    "    print(f'Average probability of passing through the midpoint of a disordered potential is {np.average(probabilities).real}')\n",
    "    hist, bins, p = plt.hist(probabilities, bins=100)\n",
    "    plt.title('Probability of a particle passing through the midpoint for a 100 realizations of the disordered potential')\n",
    "    plt.xlabel('Probability of passing through the midpoint')\n",
    "    plt.ylabel('Number of occurences')\n",
    "    plt.show()\n",
    "\n",
    "\n",
    "    \n",
    "t1 = time.time()\n",
    "task7()\n",
    "t2 = time.time()\n",
    "\n",
    "print(f'Time taken for this exercise is {t2 - t1} seconds')"
   ]
  },
  {
   "cell_type": "markdown",
   "metadata": {},
   "source": [
    "Even though the magnitude of the potential remained the same, the fact that it is very disordered this time causes the particle to stay localized and not move that much. That is why the probability of passing through the midpoint became very low and is much lower than the same probability in task 5 with an ordered potential. Looking at the animation of a single realization of the unordered potential, we can see that the particle tends to stay traped in pockets of the potential barriers."
   ]
  },
  {
   "cell_type": "code",
   "execution_count": null,
   "metadata": {},
   "outputs": [],
   "source": [
    "def make_animation_task7():\n",
    "    # Animates the schrodinger wavefunction evolution for one randomized potential\n",
    "    fig, ax = plt.subplots()\n",
    "    ax.set_xlim(0, 100)\n",
    "    ax.set_ylim(0, 0.25)\n",
    "    line, = ax.plot([], [], lw=2)\n",
    "    \n",
    "    V = disordered_potential()\n",
    "    \n",
    "    hamiltonian = create_Hamiltonian(N, my_dx, V)\n",
    "    psi0 = task3_gaussian_norm(x)\n",
    "    psin = psi0.copy()\n",
    "    \n",
    "    A = identity(N) + 1/2 * 1j * hamiltonian * dt\n",
    "    b = identity(N) - 1/2 * 1j * hamiltonian * dt\n",
    "    \n",
    "    ps = []\n",
    "    \n",
    "    for n in range(nmax):\n",
    "        RHS = b.dot(psin)\n",
    "        psin = spsolve(A, RHS)\n",
    "        ps.append(np.abs(psin)**2)\n",
    "    \n",
    "    def init():\n",
    "        line.set_data(x, psi0)\n",
    "        return (line,)\n",
    "    \n",
    "    def animate(i):\n",
    "        line.set_data(x, ps[15*i])\n",
    "        return (line,)\n",
    "    \n",
    "    anim = animation.FuncAnimation(fig, animate, init_func=init,\n",
    "                                   frames=int(nmax/15), interval=20, blit=True)\n",
    "\n",
    "    return anim\n",
    "    \n",
    "# Uncomment the next line to make an animation\n",
    "HTML(make_animation_task4().to_jshtml())"
   ]
  },
  {
   "cell_type": "code",
   "execution_count": null,
   "metadata": {},
   "outputs": [],
   "source": []
  }
 ],
 "metadata": {
  "kernelspec": {
   "display_name": "Python 3",
   "language": "python",
   "name": "python3"
  },
  "language_info": {
   "codemirror_mode": {
    "name": "ipython",
    "version": 3
   },
   "file_extension": ".py",
   "mimetype": "text/x-python",
   "name": "python",
   "nbconvert_exporter": "python",
   "pygments_lexer": "ipython3",
   "version": "3.7.6"
  }
 },
 "nbformat": 4,
 "nbformat_minor": 4
}
