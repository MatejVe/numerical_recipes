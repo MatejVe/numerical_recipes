{
 "cells": [
  {
   "cell_type": "markdown",
   "metadata": {
    "nbgrader": {
     "grade": "false",
     "grade_id": "grade",
     "locked": "false",
     "schema_version": 1,
     "solution": "false"
    }
   },
   "source": [
    "# Mark: 86/100\n",
    "\n",
    "### Notes: \n",
    "\n",
    "Good solutions to many tasks. Be careful of casting things to ints (task 3). A small issue in tasks 5/6 gave slightly incorrect result. Good attempt at bonus task."
   ]
  },
  {
   "cell_type": "markdown",
   "metadata": {
    "deletable": false,
    "editable": false,
    "nbgrader": {
     "cell_type": "markdown",
     "checksum": "875987fb2ff1f6dd6eb10454dc26744c",
     "grade": false,
     "grade_id": "header",
     "locked": true,
     "schema_version": 3,
     "solution": false,
     "task": false
    }
   },
   "source": [
    "# Checkpoint 3\n",
    "\n",
    "**Due: Friday, 4 December, 2020 at 5:00pm GMT**\n",
    "\n",
    "### Read This First\n",
    "1. Use the constants provided in the cell below. Do not use your own constants.\n",
    "\n",
    "2. Put the code that produces the output for a given task in the cell indicated. You are welcome to add as many cells as you like for imports, function definitions, variables, etc. **Additional cells need to be in the proper order such that your code runs correctly the first time through.**\n",
    "\n",
    "3. **IMPORTANT!** Before submitting your notebook, clear the output by clicking *Restart & Clear Output* from the *Kernel* menu. If you do not do this, the file size of your notebook will be very large.\n",
    "\n",
    "\n",
    "# NMR spectrum of water\n",
    "\n",
    "This problem concerns obtaining the nuclear magnetic resonance (NMR) spectrum of water from a raw NMR signal.\n",
    "\n",
    "Given: a file containing the free-induction decay signal $y(t)$ (electromagnetic radiation emitted by protons in water), following an RF $\\pi$-pulse of f=60MHz. The recorded signal is frequency-subtracted, i.e., the radio-frequency output signal has been mixed with the carrier frequency f=60MHz to shift the signal to lower frequencies in the range of hundreds of Hz.\n",
    "\n",
    "The signal has three main components: the actual NMR signal from protons in water molecules, white noise, and a 50 Hz \"mains hum\" (electrical signal picked up by the sensitive NMR detector, coming from the mains AC; the signal also contains higher harmonics).\n",
    "\n",
    "### Hints on how to solve this checkpoint:\n",
    "- The code must work (and will be tested on) for other data files, in which the frequency of the water peak may differ by 10%. Any 'fine-tuning' of your algorithms so that they only work for the given data file is therefore discouraged.\n",
    "- Write the code in a modular way so that you can re-use functions from previous tasks. This will save you a lot of time.\n",
    "- Do not make the code more complex that it needs to be. Classes, complex data structures etc. are not required for this checkpoint.\n",
    "- Use NumPy/SciPy functions rather than your own implementation whenever possible.\n",
    "- As in CP1 and CP2, apart from numerical accuracy, efficiency and coding style will also be marked. Try to make your code readable.\n",
    "- Comment on the results obtained. This may help to get a better mark if there is a problem with the code.\n",
    "\n",
    "**There are 6 tasks in this CP worth 100 points, plus a bonus task 7 worth 15 points. The total mark will be the sum of all marks, or 100 points, whichever is lower.**"
   ]
  },
  {
   "cell_type": "code",
   "execution_count": null,
   "metadata": {},
   "outputs": [],
   "source": [
    "import matplotlib.pyplot as plt\n",
    "%matplotlib inline\n",
    "import numpy as np\n",
    "import os\n",
    "import pandas\n",
    "import time\n",
    "from scipy import integrate, optimize"
   ]
  },
  {
   "cell_type": "code",
   "execution_count": null,
   "metadata": {
    "deletable": false,
    "editable": false,
    "nbgrader": {
     "cell_type": "code",
     "checksum": "18a61d4744307e759662be2ca689122f",
     "grade": true,
     "grade_id": "generate-data",
     "locked": true,
     "points": 0,
     "schema_version": 3,
     "solution": false,
     "task": false
    }
   },
   "outputs": [],
   "source": [
    "plt.rcParams['figure.figsize'] = (10, 6)\n",
    "plt.rcParams['font.size'] = 16"
   ]
  },
  {
   "cell_type": "markdown",
   "metadata": {
    "deletable": false,
    "editable": false,
    "nbgrader": {
     "cell_type": "markdown",
     "checksum": "6dbd68d6be78feee3ad7c8d3ef1d9387",
     "grade": false,
     "grade_id": "section-task1",
     "locked": true,
     "schema_version": 3,
     "solution": false,
     "task": false
    }
   },
   "source": [
    "# Task 1 (15p)\n",
    "\n",
    "Load the data from the file \"signals/water_16_samples.csv\" and make a plot of the recorded signal versus time for t=[0,0.05), for the first of the 16 samples. Label the axes.\n",
    "\n",
    "Each row of the data file (except the first which contains table headings) has the following format:\n",
    "\n",
    "time, s1, s2, s3, ...\n",
    "\n",
    "where \"time\" is in seconds, and s1,s2,s3,... represent the NMR signal (arbitrary units) from independent realisations of the experiment. Differences between the samples should be only due to noise; it is the same experiment repeated 16  times."
   ]
  },
  {
   "cell_type": "code",
   "execution_count": null,
   "metadata": {},
   "outputs": [],
   "source": [
    "#signals = pandas.read_csv(filepath_or_buffer='file:///home/jovyan/PHYS100902020-1SV1SEM1/Checkpoint 3/signals/water_16_samples.csv')\n",
    "\n",
    "signals = pandas.read_csv(filepath_or_buffer='signals/water_16_samples.csv')"
   ]
  },
  {
   "cell_type": "code",
   "execution_count": null,
   "metadata": {
    "deletable": false,
    "nbgrader": {
     "cell_type": "code",
     "checksum": "6258b698228b7730d427235a0ce5f948",
     "grade": false,
     "grade_id": "task1",
     "locked": false,
     "schema_version": 3,
     "solution": true,
     "task": false
    }
   },
   "outputs": [],
   "source": [
    "# times array will be used in most subsequent functions\n",
    "times = signals['t']\n",
    "signal1 = signals['s1']\n",
    "\n",
    "print(times.size)\n",
    "# Times is an array of 30000 places long and it contains data from t=0 to t=0.5\n",
    "# Data up to the point t=0.05 is then stored up to the index of 0.05/0.5 * 30000 = 3000\n",
    "\n",
    "plt.plot(times[:3000], signal1[:3000])\n",
    "plt.xlabel('Time [s]')\n",
    "plt.ylabel('Signal Strength')\n",
    "plt.title('Signal number 1')\n",
    "plt.show()"
   ]
  },
  {
   "cell_type": "code",
   "execution_count": null,
   "metadata": {},
   "outputs": [],
   "source": [
    "print('Number of points is ' + str(times.size))\n",
    "print('Total time sampled is ' + str(times.max()) + ' s')\n",
    "print('Sampling frequency is ' + str(times.size/times.max()) + ' Hz')\n",
    "print('Nyquist frequency of this sample is ' + str(times.size/(2*times.max())) + ' Hz')\n",
    "print('This means that the frequencies that are going to be computed range from -15000 Hz to 15000 Hz')\n",
    "print('Index in the frequency spectrum the represents a change of ' + str(times.size/times.max() / times.size) + ' Hz which is the frequency space resolution')"
   ]
  },
  {
   "cell_type": "markdown",
   "metadata": {},
   "source": [
    "# Task 1: 12/15\n",
    "\n",
    "Solution is correct in this case, but the hard-coded array indexing would have failed for samples with different sampling or timing."
   ]
  },
  {
   "cell_type": "markdown",
   "metadata": {
    "deletable": false,
    "editable": false,
    "nbgrader": {
     "cell_type": "markdown",
     "checksum": "92e33cbbcf6173cb7104b86eb8907992",
     "grade": false,
     "grade_id": "section-task2",
     "locked": true,
     "schema_version": 3,
     "solution": false,
     "task": false
    }
   },
   "source": [
    "# Task 2 (15p)\n",
    "\n",
    "Calculate the amplitude spectrum of the NMR signal, and plot it as a function of frequency f [Hertz], for f=0 to 500 Hz. Assume the length of the time series is tmax=0.5s.\n",
    "\n",
    "**Note: in workshop, you have been plotting wavenumber ($k = \\frac{2\\pi}{\\lambda}$), whereas frequency is $f = \\frac{1}{\\lambda}$.**"
   ]
  },
  {
   "cell_type": "code",
   "execution_count": null,
   "metadata": {
    "deletable": false,
    "nbgrader": {
     "cell_type": "code",
     "checksum": "27880ea029c156f31e7f4a32d0ca9221",
     "grade": false,
     "grade_id": "task2",
     "locked": false,
     "schema_version": 3,
     "solution": true,
     "task": false
    }
   },
   "outputs": [],
   "source": [
    "tmax = 0.5\n",
    "def plot_amplitude_spectrum(FFTsignal, timevalues, maxfreq, signalNumber):\n",
    "    \"\"\"\n",
    "    Function takes in the fourier transformed values of a signal and plots its (normalized?) amplitude spectrum up to maxfreq\n",
    "    signal -> array of data points\n",
    "    timevalues -> array of times when the signal was sampled\n",
    "    maxfreq -> maximum frequency up to which the spectrum is plotted\n",
    "    signalNumber -> string that is the nubmer of the signal\n",
    "    \"\"\"\n",
    "    \n",
    "    nmbPoints = FFTsignal.size\n",
    "    freq = np.linspace(1, (nmbPoints - 1) / tmax, nmbPoints) # frequency domain\n",
    "    \n",
    "    # Plot from 0 to maxfreq Hz\n",
    "    nn = int(maxfreq * tmax) # maxfreq /(1/tmax) = maxfreq * tmax\n",
    "    \n",
    "    # Add some multiplying factors to the plot to normalize it\n",
    "    plt.plot(freq[:nn], 2 * abs(FFTsignal[:nn]) / timevalues.size)\n",
    "    plt.title('Amplitude spectrum of signal ' + signalNumber)\n",
    "    plt.xlabel('Frequency [Hz]')\n",
    "    plt.ylabel('$\\\\bar{f} (f)$')\n",
    "    plt.show()"
   ]
  },
  {
   "cell_type": "code",
   "execution_count": null,
   "metadata": {},
   "outputs": [],
   "source": [
    "# Find the fourier transform\n",
    "FFTsignal1 = np.fft.rfft(signal1)\n",
    "plot_amplitude_spectrum(FFTsignal1, timevalues=times, maxfreq=500, signalNumber='1')"
   ]
  },
  {
   "cell_type": "markdown",
   "metadata": {},
   "source": [
    "There are clearly two main signals, one at 50 Hz which is just the 'hum' from the AC supply, and the second one that is centered around 300 Hz, which must be the actual NMR signal!"
   ]
  },
  {
   "cell_type": "markdown",
   "metadata": {},
   "source": [
    "# Task 2: 12/15\n",
    "\n",
    "Plot looks nice. Implementation uses a slightly awkward combination of function arguments and global data that have to be supplied just so to work correctly."
   ]
  },
  {
   "cell_type": "markdown",
   "metadata": {
    "deletable": false,
    "editable": false,
    "nbgrader": {
     "cell_type": "markdown",
     "checksum": "3b2377cfe505791ecb04a10523db0553",
     "grade": false,
     "grade_id": "section-task3",
     "locked": true,
     "schema_version": 3,
     "solution": false,
     "task": false
    }
   },
   "source": [
    "# Task 3 (15p)\n",
    "\n",
    "Filter out the noise by passing the signal through a bandpass filter centered at the water peak with a width $\\pm$30 Hz. Plot the filtered signal y(t) for t=[0,0.5)."
   ]
  },
  {
   "cell_type": "code",
   "execution_count": null,
   "metadata": {
    "deletable": false,
    "nbgrader": {
     "cell_type": "code",
     "checksum": "184a8a663a34c78cc4e3e185ffd97764",
     "grade": false,
     "grade_id": "task3",
     "locked": false,
     "schema_version": 3,
     "solution": true,
     "task": false
    },
    "scrolled": false
   },
   "outputs": [],
   "source": [
    "def filter_signal_around_peak(signal, timevalues, filterWidth):\n",
    "    \"\"\"\n",
    "    Takes a signal, computes its discrete fourier transform, finds the frequency of the strongest signal,\n",
    "    filters the signal around the peak and finally returns the inverse transform of the filtered amplitude signal.\n",
    "    signal -> array of signal values\n",
    "    timevalues -> array of times at which the signal was sampled\n",
    "    filterWidth -> scalar that tells how wide the filter (in units of Hz) is to be (total width is taken to be 2 * filterWidth)\n",
    "    \"\"\"\n",
    "    \n",
    "    # Transform the signal\n",
    "    FFTsignal = np.fft.rfft(signal)\n",
    "    \n",
    "    # Index of the heighest peak in the transformed data\n",
    "    indexMax = np.argmax(abs(FFTsignal))\n",
    "\n",
    "    # One index is equal to a change of this much Hz\n",
    "    deltaIndex = int(1 / tmax)\n",
    "\n",
    "    # filterWidth Hz is equal to this much index change\n",
    "    deltaFilterHz = int(filterWidth / deltaIndex)\n",
    "\n",
    "    # Filter the amplitude spectrum of the signal\n",
    "    nmbPoints = FFTsignal.size\n",
    "    freq = np.linspace(0, (nmbPoints-1) / tmax, nmbPoints) # frequency domain\n",
    "    FFTsignal[np.abs(freq - freq[indexMax]) > filterWidth] = 0\n",
    "    \n",
    "    # Find the inverse transform which is the filtered signal\n",
    "    filteredSignal = np.fft.irfft(FFTsignal)\n",
    "    \n",
    "    return filteredSignal, FFTsignal"
   ]
  },
  {
   "cell_type": "code",
   "execution_count": null,
   "metadata": {},
   "outputs": [],
   "source": [
    "filteredSignal1, filteredFFTsignal1 = filter_signal_around_peak(signal1, timevalues=times, filterWidth=30)\n",
    "\n",
    "plot_amplitude_spectrum(filteredFFTsignal1, timevalues=times, maxfreq=500, signalNumber='1')\n",
    "\n",
    "# Plot the filtered signal\n",
    "plt.plot(times, filteredSignal1)\n",
    "plt.xlabel('Time [s]')\n",
    "plt.ylabel('Strength of the signal')\n",
    "plt.title('Filtered signal 1')\n",
    "plt.xlim(0, 0.05) # inserted by grader\n",
    "plt.show()"
   ]
  },
  {
   "cell_type": "markdown",
   "metadata": {},
   "source": [
    "# Task 3: 13/15\n",
    "\n",
    "The answer is correct, but `deltaIndex = int(1 / tmax)` only works because `1 / tmax` is an integer. A different tmax would have resulted in round-off error (`deltaIndex` would be 0 for `tmax > 1`)."
   ]
  },
  {
   "cell_type": "markdown",
   "metadata": {
    "deletable": false,
    "editable": false,
    "nbgrader": {
     "cell_type": "markdown",
     "checksum": "700e8a546ebfe5222a3cd679a2f37291",
     "grade": false,
     "grade_id": "section-task4",
     "locked": true,
     "schema_version": 3,
     "solution": false,
     "task": false
    }
   },
   "source": [
    "# Task 4 (15p)\n",
    "\n",
    "Use non-linear curve fitting to fit the function:\n",
    "\n",
    "$\n",
    "\\Large\n",
    "\\begin{align}\n",
    "y_{\\rm theor}(t) = A \\sin(2\\pi f_0 t) e^{-t/t_0}\n",
    "\\end{align}\n",
    "$\n",
    "\n",
    "to the filtered signal for t=[0,tmax), with unknown parameters $A, f_0, t_0$. Find and print out the best-fit frequency $f_0$. The frequency should be accurate to within 0.01 Hz of the correct answer."
   ]
  },
  {
   "cell_type": "code",
   "execution_count": null,
   "metadata": {},
   "outputs": [],
   "source": [
    "def theoretical_function(t, A, f0, t0):\n",
    "    \"\"\"\n",
    "    A sin(2*pi*f0*t)*exp(-t/t0)\n",
    "    \n",
    "    Parameters are: t, A, f0, t0\n",
    "    \"\"\"\n",
    "    return A * np.sin(2*np.pi*f0*t) * np.exp(-t/t0)"
   ]
  },
  {
   "cell_type": "code",
   "execution_count": null,
   "metadata": {
    "deletable": false,
    "nbgrader": {
     "cell_type": "code",
     "checksum": "b08a391cbc9965681f0381f098cd59fd",
     "grade": false,
     "grade_id": "task4",
     "locked": false,
     "schema_version": 3,
     "solution": true,
     "task": false
    }
   },
   "outputs": [],
   "source": [
    "nmbPoints = filteredFFTsignal1.size\n",
    "freq = np.linspace(0, (nmbPoints-1) / tmax, nmbPoints) # frequency domain\n",
    "\n",
    "# Find the frequency with the biggest amplitude, meaning the actual value is very near this frequency\n",
    "# This ensures the code works for both datasets, and hopefully for other ones as well\n",
    "biggestFrequency = freq[np.argmax(abs(filteredFFTsignal1))]\n",
    "\n",
    "popt, pcov = optimize.curve_fit(theoretical_function, times, filteredSignal1, p0=[2, biggestFrequency, 1])\n",
    "fity = theoretical_function(times, *popt)\n",
    "print(popt)\n",
    "print(f'Best fit frequency is {popt[1]} Hz')\n",
    "\n",
    "plt.plot(times, filteredSignal1, label='Filtered signal', color='blue')\n",
    "plt.plot(times, fity, label='Best fit to the filtered signal', color='red')\n",
    "plt.xlabel('Time [s]')\n",
    "plt.ylabel('Strength of the signal')\n",
    "plt.title('Filtered signal and best fit to the filtered signal')\n",
    "plt.legend()\n",
    "plt.xlim(0, 0.05)\n",
    "plt.show()"
   ]
  },
  {
   "cell_type": "code",
   "execution_count": null,
   "metadata": {
    "nbgrader": {
     "grade": true,
     "grade_id": "test-task4",
     "locked": true,
     "points": 0,
     "schema_version": 3,
     "solution": false,
     "task": false
    }
   },
   "outputs": [],
   "source": [
    "print (\"There will be tests here. Great job so far!\")\n",
    "### BEGIN HIDDEN TESTS\n",
    "print (\"Correct answer is 302.40 Hz.\")\n",
    "### END HIDDEN TESTS"
   ]
  },
  {
   "cell_type": "markdown",
   "metadata": {},
   "source": [
    "# Task 4: 20/20\n",
    "\n",
    "Great!"
   ]
  },
  {
   "cell_type": "markdown",
   "metadata": {
    "deletable": false,
    "editable": false,
    "nbgrader": {
     "cell_type": "markdown",
     "checksum": "f48140971903f032b391f0d9d165f9ca",
     "grade": false,
     "grade_id": "section-task5",
     "locked": true,
     "schema_version": 3,
     "solution": false,
     "task": false
    }
   },
   "source": [
    "# Task 5 (15p)\n",
    "\n",
    "Determine $f_0$ in a different way: find the position of the water peak in the amplitude spectrum by fitting the curve\n",
    "\n",
    "$\n",
    "\\large\n",
    "\\begin{align}\n",
    "\\tilde{y}_{\\rm theor}(f) = C + \\frac{A}{\\sqrt{\\lambda^4 + (f^2 - f_0^2)^2 + 2 \\lambda^2(f^2 + f_0^2))}}\n",
    "\\end{align}\n",
    "$\n",
    "\n",
    "This curve comes from Fourier-transforming the exponentially damped sine function from the previous task, plus a constant C to account for background noise. $\\lambda$ denotes the damping rate (inversely proportional to $t_0$ from task 4).\n",
    "\n",
    "As before, use only the first of the 16 samples for this task. The frequency should be accurate to within 0.01 Hz of the correct answer."
   ]
  },
  {
   "cell_type": "code",
   "execution_count": null,
   "metadata": {
    "deletable": false,
    "nbgrader": {
     "cell_type": "code",
     "checksum": "7f1769c0f651e16956f04e7d5a4a2ae9",
     "grade": false,
     "grade_id": "task5",
     "locked": false,
     "schema_version": 3,
     "solution": true,
     "task": false
    }
   },
   "outputs": [],
   "source": [
    "def amplitude_theoretical_function(f, C, A, lam, f0):\n",
    "    \"\"\"\n",
    "    C + A / sqrt(lam^4 + (f^2 - f0^2)^2 + 2*lam^2*(f^2 + f0^2))\n",
    "    Parameters are: f, C, A, lam, f0\n",
    "    \"\"\"\n",
    "    return C + A/(np.sqrt(lam**4 + (f**2 - f0**2)**2 + 2*lam**2*(f**2 + f0**2)))"
   ]
  },
  {
   "cell_type": "code",
   "execution_count": null,
   "metadata": {},
   "outputs": [],
   "source": [
    "parameters, covariance = optimize.curve_fit(amplitude_theoretical_function, freq, abs(filteredFFTsignal1), p0=[153, 8000, 0.5, 307.02])\n",
    "print(f'Best fit frequency is {parameters[3]} Hz')\n",
    "\n",
    "fity = amplitude_theoretical_function(freq, *parameters)\n",
    "\n",
    "plt.plot(freq[:250], abs(filteredFFTsignal1)[:250], label='Filtered signal')\n",
    "plt.plot(freq[:250], fity[:250], label='Best fit to the filtered signal')\n",
    "plt.xlabel('Frequency [Hz]')\n",
    "plt.ylabel('Strength of the signal')\n",
    "plt.title('Signal and its best fit in the frequency domain')\n",
    "plt.legend()\n",
    "plt.show()"
   ]
  },
  {
   "cell_type": "code",
   "execution_count": null,
   "metadata": {
    "nbgrader": {
     "grade": true,
     "grade_id": "test-task5",
     "locked": true,
     "points": 0,
     "schema_version": 3,
     "solution": false,
     "task": false
    }
   },
   "outputs": [],
   "source": [
    "print (\"Tests here. Keep it up!\")\n",
    "### BEGIN HIDDEN TESTS\n",
    "print (\"Correct answer is 302.40 Hz.\")\n",
    "### END HIDDEN TESTS"
   ]
  },
  {
   "cell_type": "markdown",
   "metadata": {},
   "source": [
    "# Task 5: 15/20\n",
    "\n",
    "Answer is slightly incorrect due to fitting the entire filtered signal that includes the zeroed out portion. Otherwise, well done."
   ]
  },
  {
   "cell_type": "markdown",
   "metadata": {
    "deletable": false,
    "editable": false,
    "nbgrader": {
     "cell_type": "markdown",
     "checksum": "5150f6daf1b6ae14e5776a5d3e33b654",
     "grade": false,
     "grade_id": "section-task6",
     "locked": true,
     "schema_version": 3,
     "solution": false,
     "task": false
    }
   },
   "source": [
    "# Task 6 (10p)\n",
    "\n",
    "Determine the frequency $f_0$ for all 16 data sets using the method from Task 5. Calculate mean $f_0$ and its standard error. The frequency should be accurate to within 0.01 Hz of the correct answer and the standard error should be within 1%."
   ]
  },
  {
   "cell_type": "code",
   "execution_count": null,
   "metadata": {
    "deletable": false,
    "nbgrader": {
     "cell_type": "code",
     "checksum": "09758525e23a8e1ef903179dc7d8dd91",
     "grade": false,
     "grade_id": "task6",
     "locked": false,
     "schema_version": 3,
     "solution": true,
     "task": false
    }
   },
   "outputs": [],
   "source": [
    "frequencies = []\n",
    "for i in range(16):\n",
    "    signal = signals['s' + str(i+1)] # extract the signal\n",
    "    \n",
    "    # Filter the signal\n",
    "    filteredSignal, filteredFFTsignal = filter_signal_around_peak(signal, timevalues=times, filterWidth=30)\n",
    "    \n",
    "    # Find the best fit frequency for this signal in the frequency space\n",
    "    parameters, covariance = optimize.curve_fit(amplitude_theoretical_function, freq, abs(filteredFFTsignal), p0=[153, 8000, 0.5, 307.02])\n",
    "    \n",
    "    # Save the best fit frequency\n",
    "    frequencies.append(parameters[3])\n",
    "\n",
    "# Since the function we are fitting to the data is even, the frequency that gets calculated can be both positive and negative\n",
    "# Since it doesn't matter whether it is positive or negative, I just take the absolute value making all the frequencies positive\n",
    "frequencies = np.abs(frequencies)\n",
    "meanFreq = np.mean(frequencies)\n",
    "standardError = np.std(frequencies)/np.sqrt(signals.shape[1]-1) #-1 to get rid of the inital collumn where collumn names are defined\n",
    "\n",
    "print(f'Mean value of the frequency is {meanFreq} Hz and its standard error is {standardError} Hz')"
   ]
  },
  {
   "cell_type": "code",
   "execution_count": null,
   "metadata": {
    "nbgrader": {
     "grade": true,
     "grade_id": "test-task6",
     "locked": true,
     "points": 0,
     "schema_version": 3,
     "solution": false,
     "task": false
    }
   },
   "outputs": [],
   "source": [
    "print (\"Tests here. Almost there!\")\n",
    "### BEGIN HIDDEN TESTS\n",
    "print (\"Correct answer is 302.37861566541795 +/- 0.03724493085391285 Hz.\")\n",
    "### END HIDDEN TESTS"
   ]
  },
  {
   "cell_type": "markdown",
   "metadata": {},
   "source": [
    "# Task 6: 10/15\n",
    "\n",
    "Incorrect answer for reason stated above. Otherwise, a nice, neat solution."
   ]
  },
  {
   "cell_type": "markdown",
   "metadata": {
    "deletable": false,
    "editable": false,
    "nbgrader": {
     "cell_type": "markdown",
     "checksum": "60290216d0d64e5581c8dc3595577ffb",
     "grade": false,
     "grade_id": "section-task7",
     "locked": true,
     "schema_version": 3,
     "solution": false,
     "task": false
    }
   },
   "source": [
    "# Bonus: Task 7 (15p)\n",
    "\n",
    "Find the 95% equally-tailed credible interval of $f_0$ from task 5 using Bayesian inference.\n",
    "\n",
    "Use only the first of the 16 samples for this task. Assume the spectrum can be modelled by the curve from task 5, with $C=0$ and random noise superimposed on the curve. The noise should be generated as independent, identically distributed random numbers $\\{\\chi_k\\}$ drawn from the Chi distribution with two degrees of freedom and unknown amplitude $\\sigma$, so that the amplitude spectrum is\n",
    "\n",
    "$\n",
    "\\large\n",
    "\\begin{align}\n",
    "\\tilde{y}_k = \\frac{A}{\\sqrt{\\lambda^4 + (f_k^2 - f_0^2)^2 + 2\\lambda^2(f_k^2 + f_0^2))}} + \\sigma \\chi_k\n",
    "\\end{align}\n",
    "$\n",
    "\n",
    "where $f_k = k/t_{max}$. The rationale for using the Chi distribution comes from Fourier-transforming Gaussian noise and taking its modulus (to plot the amplitude spectrum).\n",
    "\n",
    "Does the average value of $f_0$ obtained in task 6 lie in the credible interval? The bounds of the interval should be accurate to within 0.01 Hz of the correct answer."
   ]
  },
  {
   "cell_type": "code",
   "execution_count": null,
   "metadata": {
    "deletable": false,
    "nbgrader": {
     "cell_type": "code",
     "checksum": "99282a13c44b83d8a9dbd1536feaa51d",
     "grade": false,
     "grade_id": "task7",
     "locked": false,
     "schema_version": 3,
     "solution": true,
     "task": false
    }
   },
   "outputs": [],
   "source": [
    "from scipy import stats"
   ]
  },
  {
   "cell_type": "code",
   "execution_count": null,
   "metadata": {},
   "outputs": [],
   "source": [
    "# Chi distribution with two degrees of freedom random number\n",
    "print(stats.chi.rvs(df=2))\n",
    "\n",
    "# Previously calculated values, we expect the newly calculated values to be near these values\n",
    "# This affects our choice of priors\n",
    "print(f'Previously calculated parameters were C={parameters[0]}, A={parameters[1]}, lam={parameters[2]}, f0={parameters[3]}')"
   ]
  },
  {
   "cell_type": "code",
   "execution_count": null,
   "metadata": {},
   "outputs": [],
   "source": [
    "def simulate_data(f, A, lam, f0, sigma):\n",
    "    \"\"\"\n",
    "    Function takes in parameters A, lam, f0, sigma and simulates data based\n",
    "    on those parameters and random noise drawn from the chi distribution with\n",
    "    two degrees of freedom.\n",
    "    Data simulated is A / sqrt(lam^4 + (f^2 - f0^2)^2 + 2*lam^2*(f^2 + f0^2)) + sigma*chi\n",
    "    \"\"\"\n",
    "    \n",
    "    errors = np.sqrt(np.array([stats.chi.rvs(df=2) for i in range(len(freq))]))\n",
    "    simulatedData = A / np.sqrt(lam**4 + (f**2 - f0**2)**2 + 2*lam**2*(f**2 + f0**2)) + sigma * errors\n",
    "    return simulatedData\n",
    "\n",
    "def squared_distance(actualData, simulatedData):\n",
    "    \"\"\"\n",
    "    Function takes in real data and simulated data and calculates the total sum of the residuals.\n",
    "    This is taken to be a distance function in the Approximate Bayesian Computation.\n",
    "    Parameters: actualData, simulatedData\n",
    "    \"\"\"\n",
    "    distance = np.sum((actualData - simulatedData)**2)\n",
    "    return distance\n",
    "\n",
    "def ABC(nmbSim, eps, data, ranges, model_func, dist_func):\n",
    "    \"\"\"\n",
    "    Approximate Bayesian Computation. \n",
    "    Parameters are \n",
    "    nmbSim -> number of simulations\n",
    "    eps -> threshold for the distance function, above which values are rejected\n",
    "    data -> actual data\n",
    "    ranges -> a list of lists of floats, a list of min, max values for each model parameter\n",
    "    model_func -> model function\n",
    "    dist_func -> Distance function\n",
    "    \n",
    "    Values of parameters are drawn from uniform distributions centered around previously\n",
    "    calculated values.\n",
    "    \"\"\"\n",
    "    \n",
    "    # Lists to store successful parameters\n",
    "    selected = []\n",
    "    \n",
    "    for i in range(nmbSim):\n",
    "        pars = [np.random.uniform(*r) for r in ranges]\n",
    "        #A = np.random.uniform(low=6133344, high=6133346)\n",
    "        #lam = np.random.uniform(low=-0.5, high=-0.4)\n",
    "        #f0 = np.random.uniform(low=306, high=310)\n",
    "        #sigma = np.random.uniform(low=-2, high=-1)\n",
    "        \n",
    "        simulatedData = model_func(freq, *pars)\n",
    "        distance = dist_func(data, simulatedData)\n",
    "\n",
    "        if distance < eps:\n",
    "            print('Accepted!!', end=' ')\n",
    "            selected.append(pars)\n",
    "    \n",
    "    return np.array(selected)"
   ]
  },
  {
   "cell_type": "code",
   "execution_count": null,
   "metadata": {
    "scrolled": false
   },
   "outputs": [],
   "source": [
    "# mean of chi with two degrees of freedom is sqrt(pi/2)\n",
    "# Our calculated C value is -1.81845, to get a similar value sigma must be around -1.45091\n",
    "# Use these values to estimate the epsilon to be used in subsequent calculations\n",
    "# I tested different values of epsilon and the one I'm using right now is the one that accepts around 1% of simulated data\n",
    "data = simulate_data(f=freq, A=6123281.43, lam=0.444419, f0=307.0167, sigma=-1.809099)\n",
    "nn = int(500 * times.max()) # maxfreq /(1/timevalues.max()) = maxfreq * timevalues.max()\n",
    "plt.plot(freq[:nn], abs(filteredFFTsignal1[:nn]), label='Actual Data')\n",
    "plt.plot(freq[:nn], data[:nn], label='Simulated Data')\n",
    "plt.legend()\n",
    "plt.xlabel('Frequency [Hz]')\n",
    "plt.ylabel('$\\\\bar{f} (f)$')\n",
    "plt.show()\n",
    "\n",
    "firstDistance = squared_distance(abs(filteredFFTsignal1), data)\n",
    "print(f'First distance is {firstDistance}')\n",
    "\n",
    "# Pull values of parameters from uniform distribution centered around previously calculated values\n",
    "As = [6133344, 6133346]\n",
    "lams = [-0.5, -0.4]\n",
    "f0s = [freq[np.argmax(abs(filteredFFTsignal1))] - 2, freq[np.argmax(abs(filteredFFTsignal1))] + 2]\n",
    "sigmas = [-5, -1]\n",
    "ranges = [As, lams, f0s, sigmas]\n",
    "\n",
    "t1 = time.time()\n",
    "paras = ABC(nmbSim=500, eps=8000000, data=abs(filteredFFTsignal1), ranges=ranges, \n",
    "          model_func=simulate_data, dist_func=squared_distance)\n",
    "t2 = time.time()\n",
    "print(f'Time taken is {t2 - t1} seconds')\n",
    "\n",
    "frequencies = paras[:,2]\n",
    "# Find the mean and the standard deviation of successful f0 parameters\n",
    "meanf0 = np.mean(frequencies)\n",
    "stdf0 = np.std(frequencies)\n",
    "print(f'Mean value of the frequency is {meanf0} Hz and its standard deviation is {stdf0} Hz')"
   ]
  },
  {
   "cell_type": "code",
   "execution_count": null,
   "metadata": {},
   "outputs": [],
   "source": [
    "frequencies = np.sort(frequencies)\n",
    "# 2.5% = 1 / 40, so take the parameters at indices N/40 and N-N/40.\n",
    "print(f\"(f0-, f0+) = {frequencies[len(frequencies)//40]}, {frequencies[-len(frequencies)//40]}.\")"
   ]
  },
  {
   "cell_type": "markdown",
   "metadata": {},
   "source": [
    "Frequency calculated in task 6 does fall within the 95% credible interval"
   ]
  },
  {
   "cell_type": "code",
   "execution_count": null,
   "metadata": {
    "nbgrader": {
     "grade": true,
     "grade_id": "test-task7",
     "locked": true,
     "points": 0,
     "schema_version": 3,
     "solution": false,
     "task": false
    }
   },
   "outputs": [],
   "source": [
    "print (\"Tests. Nice work!\")\n",
    "### BEGIN HIDDEN TESTS\n",
    "print (\"Correct answer is 302.37760310745193 to 302.4166345063264 Hz.\")\n",
    "### END HIDDEN TESTS"
   ]
  },
  {
   "cell_type": "markdown",
   "metadata": {},
   "source": [
    "# Task 7: 4/15\n",
    "\n",
    "Answer from task 6 does not fall within your 95% credible interval. Approach looks good, but answers are systemmatically too high and credible interval is about 4x too wide. I think there was also an issue in the `simulate_data` function adding too much noise (should be one value of sigma per run, not one per frequency bin). Still, a good attempt, deserves some points."
   ]
  }
 ],
 "metadata": {
  "kernelspec": {
   "display_name": "Python 3",
   "language": "python",
   "name": "python3"
  },
  "language_info": {
   "codemirror_mode": {
    "name": "ipython",
    "version": 3
   },
   "file_extension": ".py",
   "mimetype": "text/x-python",
   "name": "python",
   "nbconvert_exporter": "python",
   "pygments_lexer": "ipython3",
   "version": "3.9.7"
  }
 },
 "nbformat": 4,
 "nbformat_minor": 4
}
